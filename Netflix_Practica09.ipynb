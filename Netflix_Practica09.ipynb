{
 "cells": [
  {
   "cell_type": "markdown",
   "id": "1120ab3d",
   "metadata": {},
   "source": [
    "\n",
    "# Sistema de Recomendación de Películas y Series de Netflix\n",
    "\n",
    "Este notebook implementa un sistema de recomendación **basado en contenido** utilizando el dataset **netflix_titles.csv**.  \n",
    "Se emplea procesamiento de lenguaje natural para analizar las descripciones y recomendar títulos similares.\n"
   ]
  },
  {
   "cell_type": "markdown",
   "id": "45e6b752",
   "metadata": {},
   "source": [
    "\n",
    "## Introducción\n",
    "\n",
    "Se trata de un recomendador sencillo basado en contenido. Usaremos la descripción de películas y series para calcular similitudes y sugerir títulos parecidos.\n"
   ]
  },
  {
   "cell_type": "markdown",
   "id": "451d4884",
   "metadata": {},
   "source": [
    "\n",
    "## Importar librerías\n",
    "\n",
    "Importamos las librerías necesarias para el procesamiento de datos, visualización y cálculo de similitud.\n"
   ]
  },
  {
   "cell_type": "code",
   "execution_count": 1,
   "id": "fe3bb7a8",
   "metadata": {},
   "outputs": [],
   "source": [
    "\n",
    "import numpy as np\n",
    "import pandas as pd\n",
    "import matplotlib.pyplot as plt\n",
    "import seaborn as sns\n",
    "from sklearn.feature_extraction.text import TfidfVectorizer\n",
    "from sklearn.metrics.pairwise import linear_kernel\n"
   ]
  },
  {
   "cell_type": "markdown",
   "id": "4db0e9fc",
   "metadata": {},
   "source": [
    "\n",
    "## Cargar el dataset\n",
    "\n",
    "Leemos el archivo CSV que contiene el catálogo de Netflix.\n"
   ]
  },
  {
   "cell_type": "code",
   "execution_count": 2,
   "id": "c2af8f4e",
   "metadata": {},
   "outputs": [
    {
     "data": {
      "text/html": [
       "<div>\n",
       "<style scoped>\n",
       "    .dataframe tbody tr th:only-of-type {\n",
       "        vertical-align: middle;\n",
       "    }\n",
       "\n",
       "    .dataframe tbody tr th {\n",
       "        vertical-align: top;\n",
       "    }\n",
       "\n",
       "    .dataframe thead th {\n",
       "        text-align: right;\n",
       "    }\n",
       "</style>\n",
       "<table border=\"1\" class=\"dataframe\">\n",
       "  <thead>\n",
       "    <tr style=\"text-align: right;\">\n",
       "      <th></th>\n",
       "      <th>show_id</th>\n",
       "      <th>type</th>\n",
       "      <th>title</th>\n",
       "      <th>director</th>\n",
       "      <th>cast</th>\n",
       "      <th>country</th>\n",
       "      <th>date_added</th>\n",
       "      <th>release_year</th>\n",
       "      <th>rating</th>\n",
       "      <th>duration</th>\n",
       "      <th>genres</th>\n",
       "      <th>language</th>\n",
       "      <th>description</th>\n",
       "      <th>popularity</th>\n",
       "      <th>vote_count</th>\n",
       "      <th>vote_average</th>\n",
       "      <th>budget</th>\n",
       "      <th>revenue</th>\n",
       "    </tr>\n",
       "  </thead>\n",
       "  <tbody>\n",
       "    <tr>\n",
       "      <th>0</th>\n",
       "      <td>33238</td>\n",
       "      <td>TV Show</td>\n",
       "      <td>Running Man</td>\n",
       "      <td>안재철</td>\n",
       "      <td>Yoo Jae-suk, Jee Seok-jin, Kim Jong-kook, Haha...</td>\n",
       "      <td>South Korea</td>\n",
       "      <td>2010-07-11</td>\n",
       "      <td>2010</td>\n",
       "      <td>8.241</td>\n",
       "      <td>1 Seasons</td>\n",
       "      <td>Comedy, Reality</td>\n",
       "      <td>ko</td>\n",
       "      <td>A reality and competition show where members a...</td>\n",
       "      <td>1929.898</td>\n",
       "      <td>187</td>\n",
       "      <td>8.241</td>\n",
       "      <td>NaN</td>\n",
       "      <td>NaN</td>\n",
       "    </tr>\n",
       "    <tr>\n",
       "      <th>1</th>\n",
       "      <td>32415</td>\n",
       "      <td>TV Show</td>\n",
       "      <td>Conan</td>\n",
       "      <td>NaN</td>\n",
       "      <td>Conan O'Brien, Andy Richter</td>\n",
       "      <td>United States of America</td>\n",
       "      <td>2010-11-08</td>\n",
       "      <td>2010</td>\n",
       "      <td>7.035</td>\n",
       "      <td>1 Seasons</td>\n",
       "      <td>Talk, Comedy, News</td>\n",
       "      <td>en</td>\n",
       "      <td>A late night television talk show hosted by  C...</td>\n",
       "      <td>1670.580</td>\n",
       "      <td>229</td>\n",
       "      <td>7.035</td>\n",
       "      <td>NaN</td>\n",
       "      <td>NaN</td>\n",
       "    </tr>\n",
       "    <tr>\n",
       "      <th>2</th>\n",
       "      <td>37757</td>\n",
       "      <td>TV Show</td>\n",
       "      <td>MasterChef Greece</td>\n",
       "      <td>NaN</td>\n",
       "      <td>NaN</td>\n",
       "      <td>Greece</td>\n",
       "      <td>2010-10-03</td>\n",
       "      <td>2010</td>\n",
       "      <td>5.600</td>\n",
       "      <td>1 Seasons</td>\n",
       "      <td>Reality</td>\n",
       "      <td>el</td>\n",
       "      <td>MasterChef Greece is a Greek competitive cooki...</td>\n",
       "      <td>1317.092</td>\n",
       "      <td>6</td>\n",
       "      <td>5.600</td>\n",
       "      <td>NaN</td>\n",
       "      <td>NaN</td>\n",
       "    </tr>\n",
       "    <tr>\n",
       "      <th>3</th>\n",
       "      <td>75685</td>\n",
       "      <td>TV Show</td>\n",
       "      <td>Prostřeno!</td>\n",
       "      <td>NaN</td>\n",
       "      <td>Václav Vydra, Jana Boušková</td>\n",
       "      <td>Czech Republic</td>\n",
       "      <td>2010-03-01</td>\n",
       "      <td>2010</td>\n",
       "      <td>6.500</td>\n",
       "      <td>1 Seasons</td>\n",
       "      <td>Reality</td>\n",
       "      <td>cs</td>\n",
       "      <td>The knives (and forks) are out as a group of s...</td>\n",
       "      <td>1095.776</td>\n",
       "      <td>6</td>\n",
       "      <td>6.500</td>\n",
       "      <td>NaN</td>\n",
       "      <td>NaN</td>\n",
       "    </tr>\n",
       "    <tr>\n",
       "      <th>4</th>\n",
       "      <td>33847</td>\n",
       "      <td>TV Show</td>\n",
       "      <td>The Talk</td>\n",
       "      <td>NaN</td>\n",
       "      <td>Amanda Kloots, Jerry O'Connell, Akbar Gbaja-Bi...</td>\n",
       "      <td>United States of America, Ireland</td>\n",
       "      <td>2010-10-18</td>\n",
       "      <td>2010</td>\n",
       "      <td>3.400</td>\n",
       "      <td>1 Seasons</td>\n",
       "      <td>Talk</td>\n",
       "      <td>en</td>\n",
       "      <td>A panel of well-known news and entertainment p...</td>\n",
       "      <td>712.070</td>\n",
       "      <td>12</td>\n",
       "      <td>3.400</td>\n",
       "      <td>NaN</td>\n",
       "      <td>NaN</td>\n",
       "    </tr>\n",
       "  </tbody>\n",
       "</table>\n",
       "</div>"
      ],
      "text/plain": [
       "   show_id     type              title director  \\\n",
       "0    33238  TV Show        Running Man      안재철   \n",
       "1    32415  TV Show              Conan      NaN   \n",
       "2    37757  TV Show  MasterChef Greece      NaN   \n",
       "3    75685  TV Show         Prostřeno!      NaN   \n",
       "4    33847  TV Show           The Talk      NaN   \n",
       "\n",
       "                                                cast  \\\n",
       "0  Yoo Jae-suk, Jee Seok-jin, Kim Jong-kook, Haha...   \n",
       "1                        Conan O'Brien, Andy Richter   \n",
       "2                                                NaN   \n",
       "3                        Václav Vydra, Jana Boušková   \n",
       "4  Amanda Kloots, Jerry O'Connell, Akbar Gbaja-Bi...   \n",
       "\n",
       "                             country  date_added  release_year  rating  \\\n",
       "0                        South Korea  2010-07-11          2010   8.241   \n",
       "1           United States of America  2010-11-08          2010   7.035   \n",
       "2                             Greece  2010-10-03          2010   5.600   \n",
       "3                     Czech Republic  2010-03-01          2010   6.500   \n",
       "4  United States of America, Ireland  2010-10-18          2010   3.400   \n",
       "\n",
       "    duration              genres language  \\\n",
       "0  1 Seasons     Comedy, Reality       ko   \n",
       "1  1 Seasons  Talk, Comedy, News       en   \n",
       "2  1 Seasons             Reality       el   \n",
       "3  1 Seasons             Reality       cs   \n",
       "4  1 Seasons                Talk       en   \n",
       "\n",
       "                                         description  popularity  vote_count  \\\n",
       "0  A reality and competition show where members a...    1929.898         187   \n",
       "1  A late night television talk show hosted by  C...    1670.580         229   \n",
       "2  MasterChef Greece is a Greek competitive cooki...    1317.092           6   \n",
       "3  The knives (and forks) are out as a group of s...    1095.776           6   \n",
       "4  A panel of well-known news and entertainment p...     712.070          12   \n",
       "\n",
       "   vote_average  budget  revenue  \n",
       "0         8.241     NaN      NaN  \n",
       "1         7.035     NaN      NaN  \n",
       "2         5.600     NaN      NaN  \n",
       "3         6.500     NaN      NaN  \n",
       "4         3.400     NaN      NaN  "
      ]
     },
     "execution_count": 2,
     "metadata": {},
     "output_type": "execute_result"
    }
   ],
   "source": [
    "\n",
    "netflix_dataset = pd.read_csv('netflix_all_detailed_up_to_2025.csv')\n",
    "netflix_dataset.head()"
   ]
  },
  {
   "cell_type": "markdown",
   "id": "d4e289f9",
   "metadata": {},
   "source": [
    "\n",
    "## Vista preliminar de los datos\n",
    "\n",
    "Mostramos las primeras filas para revisar la estructura.\n"
   ]
  },
  {
   "cell_type": "code",
   "execution_count": 3,
   "id": "f7b3d89d",
   "metadata": {},
   "outputs": [
    {
     "name": "stdout",
     "output_type": "stream",
     "text": [
      "<class 'pandas.core.frame.DataFrame'>\n",
      "RangeIndex: 32000 entries, 0 to 31999\n",
      "Data columns (total 18 columns):\n",
      " #   Column        Non-Null Count  Dtype  \n",
      "---  ------        --------------  -----  \n",
      " 0   show_id       32000 non-null  int64  \n",
      " 1   type          32000 non-null  object \n",
      " 2   title         32000 non-null  object \n",
      " 3   director      20903 non-null  object \n",
      " 4   cast          30639 non-null  object \n",
      " 5   country       29737 non-null  object \n",
      " 6   date_added    32000 non-null  object \n",
      " 7   release_year  32000 non-null  int64  \n",
      " 8   rating        32000 non-null  float64\n",
      " 9   duration      16000 non-null  object \n",
      " 10  genres        30919 non-null  object \n",
      " 11  language      32000 non-null  object \n",
      " 12  description   28662 non-null  object \n",
      " 13  popularity    32000 non-null  float64\n",
      " 14  vote_count    32000 non-null  int64  \n",
      " 15  vote_average  32000 non-null  float64\n",
      " 16  budget        16000 non-null  float64\n",
      " 17  revenue       16000 non-null  float64\n",
      "dtypes: float64(5), int64(3), object(10)\n",
      "memory usage: 4.4+ MB\n"
     ]
    }
   ],
   "source": [
    "\n",
    "netflix_dataset.info()\n"
   ]
  },
  {
   "cell_type": "markdown",
   "id": "47e445fe",
   "metadata": {},
   "source": [
    "\n",
    "## Información del dataset\n",
    "\n",
    "Identificamos los valores unicos\n"
   ]
  },
  {
   "cell_type": "code",
   "execution_count": 4,
   "id": "3e553147",
   "metadata": {},
   "outputs": [
    {
     "name": "stdout",
     "output_type": "stream",
     "text": [
      "              unique count\n",
      "show_id              31594\n",
      "type                     2\n",
      "title                30639\n",
      "director             13011\n",
      "cast                 30230\n",
      "country               1745\n",
      "date_added            5504\n",
      "release_year            16\n",
      "rating                2728\n",
      "duration                 1\n",
      "genres                3895\n",
      "language                83\n",
      "description          28636\n",
      "popularity           24159\n",
      "vote_count            2902\n",
      "vote_average          2728\n",
      "budget                 958\n",
      "revenue               5327\n"
     ]
    }
   ],
   "source": [
    "unique_counts = {}\n",
    "\n",
    "for i in list(netflix_dataset.columns):\n",
    "    unique_counts[i] = netflix_dataset[i].value_counts().shape[0]\n",
    "\n",
    "print(pd.DataFrame(unique_counts, index=[\"unique count\"]).transpose())\n"
   ]
  },
  {
   "cell_type": "markdown",
   "id": "9df84fcb",
   "metadata": {},
   "source": [
    "\n",
    "## Verificación de valores nulos\n",
    "\n",
    "Identificamos cuántos valores faltantes hay en cada columna.\n"
   ]
  },
  {
   "cell_type": "code",
   "execution_count": 5,
   "id": "5d328476",
   "metadata": {},
   "outputs": [
    {
     "name": "stdout",
     "output_type": "stream",
     "text": [
      "Table of missing values: \n",
      "show_id             0\n",
      "type                0\n",
      "title               0\n",
      "director        11097\n",
      "cast             1361\n",
      "country          2263\n",
      "date_added          0\n",
      "release_year        0\n",
      "rating              0\n",
      "duration        16000\n",
      "genres           1081\n",
      "language            0\n",
      "description      3338\n",
      "popularity          0\n",
      "vote_count          0\n",
      "vote_average        0\n",
      "budget          16000\n",
      "revenue         16000\n",
      "dtype: int64\n"
     ]
    }
   ],
   "source": [
    "\n",
    "print('Table of missing values: ')\n",
    "print(netflix_dataset.isnull().sum())\n"
   ]
  },
  {
   "cell_type": "markdown",
   "id": "e3178b96-7e6b-443c-a158-496bc07c9c2d",
   "metadata": {},
   "source": [
    "## Análisis de películas vs programas de televisión"
   ]
  },
  {
   "cell_type": "code",
   "execution_count": 25,
   "id": "1cfb9890-ee59-48a1-8d7e-a452ae6f485b",
   "metadata": {},
   "outputs": [
    {
     "data": {
      "image/png": "[encoded data removed]",
      "text/plain": [
       "<Figure size 1000x700 with 1 Axes>"
      ]
     },
     "metadata": {},
     "output_type": "display_data"
    }
   ],
   "source": [
    "import matplotlib.pyplot as plt\n",
    "import seaborn as sns\n",
    "\n",
    "plt.figure(figsize=(10, 7))\n",
    "sns.set(style='whitegrid')\n",
    "ax = sns.countplot(x=\"type\", data=netflix_dataset)\n",
    "ax.set_title(\"TV Shows VS Movies\")\n",
    "\n",
    "# Agregar los totales encima de las barras\n",
    "for p in ax.patches:\n",
    "    height = p.get_height()\n",
    "    ax.annotate(f'{height}', \n",
    "                (p.get_x() + p.get_width() / 2, height), \n",
    "                ha='center', va='bottom', fontsize=12)\n",
    "\n",
    "plt.show()"
   ]
  },
  {
   "cell_type": "code",
   "execution_count": 26,
   "id": "cff83a76-96c3-4d6e-85ee-0946d2a3c817",
   "metadata": {},
   "outputs": [
    {
     "name": "stdout",
     "output_type": "stream",
     "text": [
      "type\n",
      "Movie      15485\n",
      "TV Show    15668\n",
      "Name: title, dtype: int64\n"
     ]
    }
   ],
   "source": [
    "# Contar títulos únicos por type\n",
    "unique_counts = netflix_dataset.groupby('type')['title'].nunique()\n",
    "\n",
    "print(unique_counts)\n"
   ]
  },
  {
   "cell_type": "markdown",
   "id": "8d627316-576a-4df2-a14b-80ff531bc125",
   "metadata": {},
   "source": [
    "## ¿En qué mes un productor puede publicar su contenido? (Mes con menor cantidad de contenido añadido)"
   ]
  },
  {
   "cell_type": "code",
   "execution_count": 27,
   "id": "a95e88da-c23a-4853-816f-a0748d775eae",
   "metadata": {},
   "outputs": [
    {
     "data": {
      "image/png": "[encoded data removed]",
      "text/plain": [
       "<Figure size 2000x1400 with 2 Axes>"
      ]
     },
     "metadata": {},
     "output_type": "display_data"
    }
   ],
   "source": [
    "import numpy as np\n",
    "import matplotlib.pyplot as plt\n",
    "\n",
    "# Convertir a datetime, ignorar errores\n",
    "netflix_date = netflix_dataset[['date_added']].dropna()\n",
    "netflix_date['date_added'] = pd.to_datetime(netflix_date['date_added'], errors='coerce')\n",
    "\n",
    "# Filtrar fechas válidas\n",
    "netflix_date = netflix_date.dropna()\n",
    "\n",
    "# Extraer año y nombre del mes\n",
    "netflix_date['year'] = netflix_date['date_added'].dt.year\n",
    "netflix_date['month'] = netflix_date['date_added'].dt.month_name()\n",
    "\n",
    "# Orden de meses (de diciembre a enero)\n",
    "month_order = ['December', 'November', 'October', 'September', 'August', 'July',\n",
    "               'June', 'May', 'April', 'March', 'February', 'January']\n",
    "\n",
    "# Agrupar\n",
    "df = netflix_date.groupby('year')['month'].value_counts().unstack().fillna(0)[month_order].T\n",
    "\n",
    "# Graficar heatmap\n",
    "plt.figure(figsize=(10, 7), dpi=200)\n",
    "plt.pcolor(df, cmap='afmhot_r', edgecolors='white', linewidths=2)\n",
    "\n",
    "plt.xticks(np.arange(0.5, len(df.columns), 1), df.columns, fontsize=7, fontfamily='serif')\n",
    "plt.yticks(np.arange(0.5, len(df.index), 1), df.index, fontsize=7, fontfamily='serif')\n",
    "\n",
    "plt.title('Netflix Contents Update - HeatMap for Analysis',\n",
    "          fontsize=12, fontfamily='calibri', fontweight='bold', position=(0.20, 1.02))\n",
    "\n",
    "cbar = plt.colorbar()\n",
    "cbar.ax.tick_params(labelsize=8)\n",
    "cbar.ax.minorticks_on()\n",
    "\n",
    "plt.show()\n"
   ]
  },
  {
   "cell_type": "markdown",
   "id": "b6ac52e3-13f5-4c21-8580-e6e9444d7453",
   "metadata": {},
   "source": [
    "## Análisis de calificaciones de películas"
   ]
  },
  {
   "cell_type": "code",
   "execution_count": 29,
   "id": "bdceabcd-8c30-4780-9e25-70c565fc8350",
   "metadata": {},
   "outputs": [
    {
     "name": "stderr",
     "output_type": "stream",
     "text": [
      "C:\\Users\\52746\\AppData\\Local\\Temp\\ipykernel_3764\\2722599957.py:10: FutureWarning:\n",
      "\n",
      "\n",
      "\n",
      "Passing `palette` without assigning `hue` is deprecated and will be removed in v0.14.0. Assign the `x` variable to `hue` and set `legend=False` for the same effect.\n",
      "\n",
      "\n"
     ]
    },
    {
     "data": {
      "image/png": "[encoded data removed]",
      "text/plain": [
       "<Figure size 1200x1000 with 1 Axes>"
      ]
     },
     "metadata": {},
     "output_type": "display_data"
    }
   ],
   "source": [
    "import matplotlib.pyplot as plt\n",
    "import seaborn as sns\n",
    "\n",
    "# Filtrar a DataFrame\n",
    "ratings = netflix_dataset[['rating']].dropna()\n",
    "\n",
    "plt.figure(figsize=(12, 10))\n",
    "sns.set(style=\"darkgrid\")\n",
    "\n",
    "ax = sns.countplot(\n",
    "    x='rating',\n",
    "    data=ratings,\n",
    "    palette='Set1',\n",
    "    order=ratings['rating'].value_counts().index[:15]\n",
    ")\n",
    "\n",
    "plt.title('Cantidad de títulos por clasificación (rating)', fontsize=16)\n",
    "plt.xlabel('Clasificación', fontsize=12)\n",
    "plt.ylabel('Cantidad de títulos', fontsize=12)\n",
    "plt.xticks(rotation=45)\n",
    "plt.tight_layout()\n",
    "plt.show()\n"
   ]
  },
  {
   "cell_type": "markdown",
   "id": "2be50dd7-afd7-4d02-b4b7-031605f2ff15",
   "metadata": {},
   "source": [
    "## Análisis de las calificaciones de IMDB para obtener las películas mejor valoradas en Netflix"
   ]
  },
  {
   "cell_type": "code",
   "execution_count": 30,
   "id": "b5317e5a-5b74-4441-9a8b-eee62fa0a78c",
   "metadata": {},
   "outputs": [
    {
     "data": {
      "text/plain": [
       "(31985, 4)"
      ]
     },
     "execution_count": 30,
     "metadata": {},
     "output_type": "execute_result"
    }
   ],
   "source": [
    "# Seleccionar columnas relevantes\n",
    "ratings = netflix_dataset[['title', 'release_year', 'vote_average', 'genres']].copy()\n",
    "\n",
    "# Renombrar columnas para que coincidan con el código anterior\n",
    "ratings.columns = ['Title', 'Release Year', 'Rating', 'Genre']\n",
    "\n",
    "# Eliminar duplicados\n",
    "ratings.drop_duplicates(subset=['Title', 'Release Year', 'Rating'], inplace=True)\n",
    "\n",
    "# Mostrar tamaño final\n",
    "ratings.shape\n"
   ]
  },
  {
   "cell_type": "markdown",
   "id": "2f341d41-4f8b-4695-96bc-fef2b878c25a",
   "metadata": {},
   "source": [
    "## Realizar una unión interna en el conjunto de datos de calificaciones y el conjunto de datos de Netflix para obtener el contenido que tiene ambas calificaciones en IMDB y está disponible en Netflix."
   ]
  },
  {
   "cell_type": "code",
   "execution_count": 18,
   "id": "2a8f1b55-de52-418f-961c-148e209d1600",
   "metadata": {},
   "outputs": [],
   "source": [
    "## ratings.dropna()\n",
    "## joint_data=ratings.merge(netflix_dataset,left_on='Title',right_on='title',how='inner')\n",
    "## joint_data=joint_data.sort_values(by='Rating', ascending=False) "
   ]
  },
  {
   "cell_type": "markdown",
   "id": "e0c98a92-7204-485d-ab99-b2b2744298b7",
   "metadata": {},
   "source": [
    "## Top rated 10 movies in Netflix"
   ]
  },
  {
   "cell_type": "code",
   "execution_count": 31,
   "id": "ccdf15c7-5ace-405d-a36a-dfa9c938501b",
   "metadata": {},
   "outputs": [
    {
     "data": {
      "application/vnd.plotly.v1+json": {
       "config": {
        "plotlyServerURL": "https://plot.ly"
       },
       "data": [
        {
         "branchvalues": "total",
         "customdata": [
          [
           10
          ],
          [
           10
          ],
          [
           10
          ],
          [
           10
          ],
          [
           10
          ],
          [
           10
          ],
          [
           10
          ],
          [
           10
          ],
          [
           10
          ],
          [
           10
          ],
          [
           10
          ],
          [
           10
          ],
          [
           10
          ],
          [
           10
          ],
          [
           10
          ],
          [
           10
          ],
          [
           10
          ],
          [
           10
          ],
          [
           10
          ],
          [
           10
          ]
         ],
         "domain": {
          "x": [
           0,
           1
          ],
          "y": [
           0,
           1
          ]
         },
         "hovertemplate": "labels=%{label}<br>Rating_sum=%{value}<br>parent=%{parent}<br>id=%{id}<br>Rating=%{color}<extra></extra>",
         "ids": [
          "The Skinner Boys: Guardians of the Lost Secrets/Australia",
          "De Férias com o Ex Brasil: A Treta não Tira Férias/Brazil",
          "Hope for Wildlife/Canada",
          "Gone with the Rain/China",
          "Voice Junior/Denmark",
          "Bada Naam Karenge/India",
          "Raat Hone Ko Hai/India",
          "Conversation with Hee Yeol/South Korea",
          "Justice Bao/Unknown",
          "袁游/Unknown",
          "Bada Naam Karenge",
          "Conversation with Hee Yeol",
          "De Férias com o Ex Brasil: A Treta não Tira Férias",
          "Gone with the Rain",
          "Hope for Wildlife",
          "Justice Bao",
          "Raat Hone Ko Hai",
          "The Skinner Boys: Guardians of the Lost Secrets",
          "Voice Junior",
          "袁游"
         ],
         "labels": [
          "Australia",
          "Brazil",
          "Canada",
          "China",
          "Denmark",
          "India",
          "India",
          "South Korea",
          "Unknown",
          "Unknown",
          "Bada Naam Karenge",
          "Conversation with Hee Yeol",
          "De Férias com o Ex Brasil: A Treta não Tira Férias",
          "Gone with the Rain",
          "Hope for Wildlife",
          "Justice Bao",
          "Raat Hone Ko Hai",
          "The Skinner Boys: Guardians of the Lost Secrets",
          "Voice Junior",
          "袁游"
         ],
         "marker": {
          "coloraxis": "coloraxis",
          "colors": [
           10,
           10,
           10,
           10,
           10,
           10,
           10,
           10,
           10,
           10,
           10,
           10,
           10,
           10,
           10,
           10,
           10,
           10,
           10,
           10
          ]
         },
         "name": "",
         "parents": [
          "The Skinner Boys: Guardians of the Lost Secrets",
          "De Férias com o Ex Brasil: A Treta não Tira Férias",
          "Hope for Wildlife",
          "Gone with the Rain",
          "Voice Junior",
          "Bada Naam Karenge",
          "Raat Hone Ko Hai",
          "Conversation with Hee Yeol",
          "Justice Bao",
          "袁游",
          "",
          "",
          "",
          "",
          "",
          "",
          "",
          "",
          "",
          ""
         ],
         "type": "sunburst",
         "values": [
          10,
          10,
          10,
          10,
          10,
          10,
          10,
          10,
          10,
          10,
          10,
          10,
          10,
          10,
          10,
          10,
          10,
          10,
          10,
          10
         ]
        }
       ],
       "layout": {
        "autosize": true,
        "coloraxis": {
         "colorbar": {
          "title": {
           "text": "Rating"
          }
         },
         "colorscale": [
          [
           0,
           "#0d0887"
          ],
          [
           0.1111111111111111,
           "#46039f"
          ],
          [
           0.2222222222222222,
           "#7201a8"
          ],
          [
           0.3333333333333333,
           "#9c179e"
          ],
          [
           0.4444444444444444,
           "#bd3786"
          ],
          [
           0.5555555555555556,
           "#d8576b"
          ],
          [
           0.6666666666666666,
           "#ed7953"
          ],
          [
           0.7777777777777778,
           "#fb9f3a"
          ],
          [
           0.8888888888888888,
           "#fdca26"
          ],
          [
           1,
           "#f0f921"
          ]
         ]
        },
        "legend": {
         "tracegroupgap": 0
        },
        "margin": {
         "t": 60
        },
        "template": {
         "data": {
          "bar": [
           {
            "error_x": {
             "color": "#2a3f5f"
            },
            "error_y": {
             "color": "#2a3f5f"
            },
            "marker": {
             "line": {
              "color": "#E5ECF6",
              "width": 0.5
             },
             "pattern": {
              "fillmode": "overlay",
              "size": 10,
              "solidity": 0.2
             }
            },
            "type": "bar"
           }
          ],
          "barpolar": [
           {
            "marker": {
             "line": {
              "color": "#E5ECF6",
              "width": 0.5
             },
             "pattern": {
              "fillmode": "overlay",
              "size": 10,
              "solidity": 0.2
             }
            },
            "type": "barpolar"
           }
          ],
          "carpet": [
           {
            "aaxis": {
             "endlinecolor": "#2a3f5f",
             "gridcolor": "white",
             "linecolor": "white",
             "minorgridcolor": "white",
             "startlinecolor": "#2a3f5f"
            },
            "baxis": {
             "endlinecolor": "#2a3f5f",
             "gridcolor": "white",
             "linecolor": "white",
             "minorgridcolor": "white",
             "startlinecolor": "#2a3f5f"
            },
            "type": "carpet"
           }
          ],
          "choropleth": [
           {
            "colorbar": {
             "outlinewidth": 0,
             "ticks": ""
            },
            "type": "choropleth"
           }
          ],
          "contour": [
           {
            "colorbar": {
             "outlinewidth": 0,
             "ticks": ""
            },
            "colorscale": [
             [
              0,
              "#0d0887"
             ],
             [
              0.1111111111111111,
              "#46039f"
             ],
             [
              0.2222222222222222,
              "#7201a8"
             ],
             [
              0.3333333333333333,
              "#9c179e"
             ],
             [
              0.4444444444444444,
              "#bd3786"
             ],
             [
              0.5555555555555556,
              "#d8576b"
             ],
             [
              0.6666666666666666,
              "#ed7953"
             ],
             [
              0.7777777777777778,
              "#fb9f3a"
             ],
             [
              0.8888888888888888,
              "#fdca26"
             ],
             [
              1,
              "#f0f921"
             ]
            ],
            "type": "contour"
           }
          ],
          "contourcarpet": [
           {
            "colorbar": {
             "outlinewidth": 0,
             "ticks": ""
            },
            "type": "contourcarpet"
           }
          ],
          "heatmap": [
           {
            "colorbar": {
             "outlinewidth": 0,
             "ticks": ""
            },
            "colorscale": [
             [
              0,
              "#0d0887"
             ],
             [
              0.1111111111111111,
              "#46039f"
             ],
             [
              0.2222222222222222,
              "#7201a8"
             ],
             [
              0.3333333333333333,
              "#9c179e"
             ],
             [
              0.4444444444444444,
              "#bd3786"
             ],
             [
              0.5555555555555556,
              "#d8576b"
             ],
             [
              0.6666666666666666,
              "#ed7953"
             ],
             [
              0.7777777777777778,
              "#fb9f3a"
             ],
             [
              0.8888888888888888,
              "#fdca26"
             ],
             [
              1,
              "#f0f921"
             ]
            ],
            "type": "heatmap"
           }
          ],
          "heatmapgl": [
           {
            "colorbar": {
             "outlinewidth": 0,
             "ticks": ""
            },
            "colorscale": [
             [
              0,
              "#0d0887"
             ],
             [
              0.1111111111111111,
              "#46039f"
             ],
             [
              0.2222222222222222,
              "#7201a8"
             ],
             [
              0.3333333333333333,
              "#9c179e"
             ],
             [
              0.4444444444444444,
              "#bd3786"
             ],
             [
              0.5555555555555556,
              "#d8576b"
             ],
             [
              0.6666666666666666,
              "#ed7953"
             ],
             [
              0.7777777777777778,
              "#fb9f3a"
             ],
             [
              0.8888888888888888,
              "#fdca26"
             ],
             [
              1,
              "#f0f921"
             ]
            ],
            "type": "heatmapgl"
           }
          ],
          "histogram": [
           {
            "marker": {
             "pattern": {
              "fillmode": "overlay",
              "size": 10,
              "solidity": 0.2
             }
            },
            "type": "histogram"
           }
          ],
          "histogram2d": [
           {
            "colorbar": {
             "outlinewidth": 0,
             "ticks": ""
            },
            "colorscale": [
             [
              0,
              "#0d0887"
             ],
             [
              0.1111111111111111,
              "#46039f"
             ],
             [
              0.2222222222222222,
              "#7201a8"
             ],
             [
              0.3333333333333333,
              "#9c179e"
             ],
             [
              0.4444444444444444,
              "#bd3786"
             ],
             [
              0.5555555555555556,
              "#d8576b"
             ],
             [
              0.6666666666666666,
              "#ed7953"
             ],
             [
              0.7777777777777778,
              "#fb9f3a"
             ],
             [
              0.8888888888888888,
              "#fdca26"
             ],
             [
              1,
              "#f0f921"
             ]
            ],
            "type": "histogram2d"
           }
          ],
          "histogram2dcontour": [
           {
            "colorbar": {
             "outlinewidth": 0,
             "ticks": ""
            },
            "colorscale": [
             [
              0,
              "#0d0887"
             ],
             [
              0.1111111111111111,
              "#46039f"
             ],
             [
              0.2222222222222222,
              "#7201a8"
             ],
             [
              0.3333333333333333,
              "#9c179e"
             ],
             [
              0.4444444444444444,
              "#bd3786"
             ],
             [
              0.5555555555555556,
              "#d8576b"
             ],
             [
              0.6666666666666666,
              "#ed7953"
             ],
             [
              0.7777777777777778,
              "#fb9f3a"
             ],
             [
              0.8888888888888888,
              "#fdca26"
             ],
             [
              1,
              "#f0f921"
             ]
            ],
            "type": "histogram2dcontour"
           }
          ],
          "mesh3d": [
           {
            "colorbar": {
             "outlinewidth": 0,
             "ticks": ""
            },
            "type": "mesh3d"
           }
          ],
          "parcoords": [
           {
            "line": {
             "colorbar": {
              "outlinewidth": 0,
              "ticks": ""
             }
            },
            "type": "parcoords"
           }
          ],
          "pie": [
           {
            "automargin": true,
            "type": "pie"
           }
          ],
          "scatter": [
           {
            "fillpattern": {
             "fillmode": "overlay",
             "size": 10,
             "solidity": 0.2
            },
            "type": "scatter"
           }
          ],
          "scatter3d": [
           {
            "line": {
             "colorbar": {
              "outlinewidth": 0,
              "ticks": ""
             }
            },
            "marker": {
             "colorbar": {
              "outlinewidth": 0,
              "ticks": ""
             }
            },
            "type": "scatter3d"
           }
          ],
          "scattercarpet": [
           {
            "marker": {
             "colorbar": {
              "outlinewidth": 0,
              "ticks": ""
             }
            },
            "type": "scattercarpet"
           }
          ],
          "scattergeo": [
           {
            "marker": {
             "colorbar": {
              "outlinewidth": 0,
              "ticks": ""
             }
            },
            "type": "scattergeo"
           }
          ],
          "scattergl": [
           {
            "marker": {
             "colorbar": {
              "outlinewidth": 0,
              "ticks": ""
             }
            },
            "type": "scattergl"
           }
          ],
          "scattermapbox": [
           {
            "marker": {
             "colorbar": {
              "outlinewidth": 0,
              "ticks": ""
             }
            },
            "type": "scattermapbox"
           }
          ],
          "scatterpolar": [
           {
            "marker": {
             "colorbar": {
              "outlinewidth": 0,
              "ticks": ""
             }
            },
            "type": "scatterpolar"
           }
          ],
          "scatterpolargl": [
           {
            "marker": {
             "colorbar": {
              "outlinewidth": 0,
              "ticks": ""
             }
            },
            "type": "scatterpolargl"
           }
          ],
          "scatterternary": [
           {
            "marker": {
             "colorbar": {
              "outlinewidth": 0,
              "ticks": ""
             }
            },
            "type": "scatterternary"
           }
          ],
          "surface": [
           {
            "colorbar": {
             "outlinewidth": 0,
             "ticks": ""
            },
            "colorscale": [
             [
              0,
              "#0d0887"
             ],
             [
              0.1111111111111111,
              "#46039f"
             ],
             [
              0.2222222222222222,
              "#7201a8"
             ],
             [
              0.3333333333333333,
              "#9c179e"
             ],
             [
              0.4444444444444444,
              "#bd3786"
             ],
             [
              0.5555555555555556,
              "#d8576b"
             ],
             [
              0.6666666666666666,
              "#ed7953"
             ],
             [
              0.7777777777777778,
              "#fb9f3a"
             ],
             [
              0.8888888888888888,
              "#fdca26"
             ],
             [
              1,
              "#f0f921"
             ]
            ],
            "type": "surface"
           }
          ],
          "table": [
           {
            "cells": {
             "fill": {
              "color": "#EBF0F8"
             },
             "line": {
              "color": "white"
             }
            },
            "header": {
             "fill": {
              "color": "#C8D4E3"
             },
             "line": {
              "color": "white"
             }
            },
            "type": "table"
           }
          ]
         },
         "layout": {
          "annotationdefaults": {
           "arrowcolor": "#2a3f5f",
           "arrowhead": 0,
           "arrowwidth": 1
          },
          "autotypenumbers": "strict",
          "coloraxis": {
           "colorbar": {
            "outlinewidth": 0,
            "ticks": ""
           }
          },
          "colorscale": {
           "diverging": [
            [
             0,
             "#8e0152"
            ],
            [
             0.1,
             "#c51b7d"
            ],
            [
             0.2,
             "#de77ae"
            ],
            [
             0.3,
             "#f1b6da"
            ],
            [
             0.4,
             "#fde0ef"
            ],
            [
             0.5,
             "#f7f7f7"
            ],
            [
             0.6,
             "#e6f5d0"
            ],
            [
             0.7,
             "#b8e186"
            ],
            [
             0.8,
             "#7fbc41"
            ],
            [
             0.9,
             "#4d9221"
            ],
            [
             1,
             "#276419"
            ]
           ],
           "sequential": [
            [
             0,
             "#0d0887"
            ],
            [
             0.1111111111111111,
             "#46039f"
            ],
            [
             0.2222222222222222,
             "#7201a8"
            ],
            [
             0.3333333333333333,
             "#9c179e"
            ],
            [
             0.4444444444444444,
             "#bd3786"
            ],
            [
             0.5555555555555556,
             "#d8576b"
            ],
            [
             0.6666666666666666,
             "#ed7953"
            ],
            [
             0.7777777777777778,
             "#fb9f3a"
            ],
            [
             0.8888888888888888,
             "#fdca26"
            ],
            [
             1,
             "#f0f921"
            ]
           ],
           "sequentialminus": [
            [
             0,
             "#0d0887"
            ],
            [
             0.1111111111111111,
             "#46039f"
            ],
            [
             0.2222222222222222,
             "#7201a8"
            ],
            [
             0.3333333333333333,
             "#9c179e"
            ],
            [
             0.4444444444444444,
             "#bd3786"
            ],
            [
             0.5555555555555556,
             "#d8576b"
            ],
            [
             0.6666666666666666,
             "#ed7953"
            ],
            [
             0.7777777777777778,
             "#fb9f3a"
            ],
            [
             0.8888888888888888,
             "#fdca26"
            ],
            [
             1,
             "#f0f921"
            ]
           ]
          },
          "colorway": [
           "#636efa",
           "#EF553B",
           "#00cc96",
           "#ab63fa",
           "#FFA15A",
           "#19d3f3",
           "#FF6692",
           "#B6E880",
           "#FF97FF",
           "#FECB52"
          ],
          "font": {
           "color": "#2a3f5f"
          },
          "geo": {
           "bgcolor": "white",
           "lakecolor": "white",
           "landcolor": "#E5ECF6",
           "showlakes": true,
           "showland": true,
           "subunitcolor": "white"
          },
          "hoverlabel": {
           "align": "left"
          },
          "hovermode": "closest",
          "mapbox": {
           "style": "light"
          },
          "paper_bgcolor": "white",
          "plot_bgcolor": "#E5ECF6",
          "polar": {
           "angularaxis": {
            "gridcolor": "white",
            "linecolor": "white",
            "ticks": ""
           },
           "bgcolor": "#E5ECF6",
           "radialaxis": {
            "gridcolor": "white",
            "linecolor": "white",
            "ticks": ""
           }
          },
          "scene": {
           "xaxis": {
            "backgroundcolor": "#E5ECF6",
            "gridcolor": "white",
            "gridwidth": 2,
            "linecolor": "white",
            "showbackground": true,
            "ticks": "",
            "zerolinecolor": "white"
           },
           "yaxis": {
            "backgroundcolor": "#E5ECF6",
            "gridcolor": "white",
            "gridwidth": 2,
            "linecolor": "white",
            "showbackground": true,
            "ticks": "",
            "zerolinecolor": "white"
           },
           "zaxis": {
            "backgroundcolor": "#E5ECF6",
            "gridcolor": "white",
            "gridwidth": 2,
            "linecolor": "white",
            "showbackground": true,
            "ticks": "",
            "zerolinecolor": "white"
           }
          },
          "shapedefaults": {
           "line": {
            "color": "#2a3f5f"
           }
          },
          "ternary": {
           "aaxis": {
            "gridcolor": "white",
            "linecolor": "white",
            "ticks": ""
           },
           "baxis": {
            "gridcolor": "white",
            "linecolor": "white",
            "ticks": ""
           },
           "bgcolor": "#E5ECF6",
           "caxis": {
            "gridcolor": "white",
            "linecolor": "white",
            "ticks": ""
           }
          },
          "title": {
           "x": 0.05
          },
          "xaxis": {
           "automargin": true,
           "gridcolor": "white",
           "linecolor": "white",
           "ticks": "",
           "title": {
            "standoff": 15
           },
           "zerolinecolor": "white",
           "zerolinewidth": 2
          },
          "yaxis": {
           "automargin": true,
           "gridcolor": "white",
           "linecolor": "white",
           "ticks": "",
           "title": {
            "standoff": 15
           },
           "zerolinecolor": "white",
           "zerolinewidth": 2
          }
         }
        },
        "title": {
         "text": "Top 10 títulos mejor calificados por país"
        }
       }
      },
      "image/png": "[encoded data removed]",
      "text/html": [
       "<div>                            <div id=\"c747b1b9-9e3c-4b18-a27a-b715f213e457\" class=\"plotly-graph-div\" style=\"height:525px; width:100%;\"></div>            <script type=\"text/javascript\">                require([\"plotly\"], function(Plotly) {                    window.PLOTLYENV=window.PLOTLYENV || {};                                    if (document.getElementById(\"c747b1b9-9e3c-4b18-a27a-b715f213e457\")) {                    Plotly.newPlot(                        \"c747b1b9-9e3c-4b18-a27a-b715f213e457\",                        [{\"branchvalues\":\"total\",\"customdata\":[[10.0],[10.0],[10.0],[10.0],[10.0],[10.0],[10.0],[10.0],[10.0],[10.0],[10.0],[10.0],[10.0],[10.0],[10.0],[10.0],[10.0],[10.0],[10.0],[10.0]],\"domain\":{\"x\":[0.0,1.0],\"y\":[0.0,1.0]},\"hovertemplate\":\"labels=%{label}\\u003cbr\\u003eRating_sum=%{value}\\u003cbr\\u003eparent=%{parent}\\u003cbr\\u003eid=%{id}\\u003cbr\\u003eRating=%{color}\\u003cextra\\u003e\\u003c\\u002fextra\\u003e\",\"ids\":[\"The Skinner Boys: Guardians of the Lost Secrets\\u002fAustralia\",\"De F\\u00e9rias com o Ex Brasil: A Treta n\\u00e3o Tira F\\u00e9rias\\u002fBrazil\",\"Hope for Wildlife\\u002fCanada\",\"Gone with the Rain\\u002fChina\",\"Voice Junior\\u002fDenmark\",\"Bada Naam Karenge\\u002fIndia\",\"Raat Hone Ko Hai\\u002fIndia\",\"Conversation with Hee Yeol\\u002fSouth Korea\",\"Justice Bao\\u002fUnknown\",\"\\u8881\\u6e38\\u002fUnknown\",\"Bada Naam Karenge\",\"Conversation with Hee Yeol\",\"De F\\u00e9rias com o Ex Brasil: A Treta n\\u00e3o Tira F\\u00e9rias\",\"Gone with the Rain\",\"Hope for Wildlife\",\"Justice Bao\",\"Raat Hone Ko Hai\",\"The Skinner Boys: Guardians of the Lost Secrets\",\"Voice Junior\",\"\\u8881\\u6e38\"],\"labels\":[\"Australia\",\"Brazil\",\"Canada\",\"China\",\"Denmark\",\"India\",\"India\",\"South Korea\",\"Unknown\",\"Unknown\",\"Bada Naam Karenge\",\"Conversation with Hee Yeol\",\"De F\\u00e9rias com o Ex Brasil: A Treta n\\u00e3o Tira F\\u00e9rias\",\"Gone with the Rain\",\"Hope for Wildlife\",\"Justice Bao\",\"Raat Hone Ko Hai\",\"The Skinner Boys: Guardians of the Lost Secrets\",\"Voice Junior\",\"\\u8881\\u6e38\"],\"marker\":{\"coloraxis\":\"coloraxis\",\"colors\":[10.0,10.0,10.0,10.0,10.0,10.0,10.0,10.0,10.0,10.0,10.0,10.0,10.0,10.0,10.0,10.0,10.0,10.0,10.0,10.0]},\"name\":\"\",\"parents\":[\"The Skinner Boys: Guardians of the Lost Secrets\",\"De F\\u00e9rias com o Ex Brasil: A Treta n\\u00e3o Tira F\\u00e9rias\",\"Hope for Wildlife\",\"Gone with the Rain\",\"Voice Junior\",\"Bada Naam Karenge\",\"Raat Hone Ko Hai\",\"Conversation with Hee Yeol\",\"Justice Bao\",\"\\u8881\\u6e38\",\"\",\"\",\"\",\"\",\"\",\"\",\"\",\"\",\"\",\"\"],\"values\":[10.0,10.0,10.0,10.0,10.0,10.0,10.0,10.0,10.0,10.0,10.0,10.0,10.0,10.0,10.0,10.0,10.0,10.0,10.0,10.0],\"type\":\"sunburst\"}],                        {\"template\":{\"data\":{\"histogram2dcontour\":[{\"type\":\"histogram2dcontour\",\"colorbar\":{\"outlinewidth\":0,\"ticks\":\"\"},\"colorscale\":[[0.0,\"#0d0887\"],[0.1111111111111111,\"#46039f\"],[0.2222222222222222,\"#7201a8\"],[0.3333333333333333,\"#9c179e\"],[0.4444444444444444,\"#bd3786\"],[0.5555555555555556,\"#d8576b\"],[0.6666666666666666,\"#ed7953\"],[0.7777777777777778,\"#fb9f3a\"],[0.8888888888888888,\"#fdca26\"],[1.0,\"#f0f921\"]]}],\"choropleth\":[{\"type\":\"choropleth\",\"colorbar\":{\"outlinewidth\":0,\"ticks\":\"\"}}],\"histogram2d\":[{\"type\":\"histogram2d\",\"colorbar\":{\"outlinewidth\":0,\"ticks\":\"\"},\"colorscale\":[[0.0,\"#0d0887\"],[0.1111111111111111,\"#46039f\"],[0.2222222222222222,\"#7201a8\"],[0.3333333333333333,\"#9c179e\"],[0.4444444444444444,\"#bd3786\"],[0.5555555555555556,\"#d8576b\"],[0.6666666666666666,\"#ed7953\"],[0.7777777777777778,\"#fb9f3a\"],[0.8888888888888888,\"#fdca26\"],[1.0,\"#f0f921\"]]}],\"heatmap\":[{\"type\":\"heatmap\",\"colorbar\":{\"outlinewidth\":0,\"ticks\":\"\"},\"colorscale\":[[0.0,\"#0d0887\"],[0.1111111111111111,\"#46039f\"],[0.2222222222222222,\"#7201a8\"],[0.3333333333333333,\"#9c179e\"],[0.4444444444444444,\"#bd3786\"],[0.5555555555555556,\"#d8576b\"],[0.6666666666666666,\"#ed7953\"],[0.7777777777777778,\"#fb9f3a\"],[0.8888888888888888,\"#fdca26\"],[1.0,\"#f0f921\"]]}],\"heatmapgl\":[{\"type\":\"heatmapgl\",\"colorbar\":{\"outlinewidth\":0,\"ticks\":\"\"},\"colorscale\":[[0.0,\"#0d0887\"],[0.1111111111111111,\"#46039f\"],[0.2222222222222222,\"#7201a8\"],[0.3333333333333333,\"#9c179e\"],[0.4444444444444444,\"#bd3786\"],[0.5555555555555556,\"#d8576b\"],[0.6666666666666666,\"#ed7953\"],[0.7777777777777778,\"#fb9f3a\"],[0.8888888888888888,\"#fdca26\"],[1.0,\"#f0f921\"]]}],\"contourcarpet\":[{\"type\":\"contourcarpet\",\"colorbar\":{\"outlinewidth\":0,\"ticks\":\"\"}}],\"contour\":[{\"type\":\"contour\",\"colorbar\":{\"outlinewidth\":0,\"ticks\":\"\"},\"colorscale\":[[0.0,\"#0d0887\"],[0.1111111111111111,\"#46039f\"],[0.2222222222222222,\"#7201a8\"],[0.3333333333333333,\"#9c179e\"],[0.4444444444444444,\"#bd3786\"],[0.5555555555555556,\"#d8576b\"],[0.6666666666666666,\"#ed7953\"],[0.7777777777777778,\"#fb9f3a\"],[0.8888888888888888,\"#fdca26\"],[1.0,\"#f0f921\"]]}],\"surface\":[{\"type\":\"surface\",\"colorbar\":{\"outlinewidth\":0,\"ticks\":\"\"},\"colorscale\":[[0.0,\"#0d0887\"],[0.1111111111111111,\"#46039f\"],[0.2222222222222222,\"#7201a8\"],[0.3333333333333333,\"#9c179e\"],[0.4444444444444444,\"#bd3786\"],[0.5555555555555556,\"#d8576b\"],[0.6666666666666666,\"#ed7953\"],[0.7777777777777778,\"#fb9f3a\"],[0.8888888888888888,\"#fdca26\"],[1.0,\"#f0f921\"]]}],\"mesh3d\":[{\"type\":\"mesh3d\",\"colorbar\":{\"outlinewidth\":0,\"ticks\":\"\"}}],\"scatter\":[{\"fillpattern\":{\"fillmode\":\"overlay\",\"size\":10,\"solidity\":0.2},\"type\":\"scatter\"}],\"parcoords\":[{\"type\":\"parcoords\",\"line\":{\"colorbar\":{\"outlinewidth\":0,\"ticks\":\"\"}}}],\"scatterpolargl\":[{\"type\":\"scatterpolargl\",\"marker\":{\"colorbar\":{\"outlinewidth\":0,\"ticks\":\"\"}}}],\"bar\":[{\"error_x\":{\"color\":\"#2a3f5f\"},\"error_y\":{\"color\":\"#2a3f5f\"},\"marker\":{\"line\":{\"color\":\"#E5ECF6\",\"width\":0.5},\"pattern\":{\"fillmode\":\"overlay\",\"size\":10,\"solidity\":0.2}},\"type\":\"bar\"}],\"scattergeo\":[{\"type\":\"scattergeo\",\"marker\":{\"colorbar\":{\"outlinewidth\":0,\"ticks\":\"\"}}}],\"scatterpolar\":[{\"type\":\"scatterpolar\",\"marker\":{\"colorbar\":{\"outlinewidth\":0,\"ticks\":\"\"}}}],\"histogram\":[{\"marker\":{\"pattern\":{\"fillmode\":\"overlay\",\"size\":10,\"solidity\":0.2}},\"type\":\"histogram\"}],\"scattergl\":[{\"type\":\"scattergl\",\"marker\":{\"colorbar\":{\"outlinewidth\":0,\"ticks\":\"\"}}}],\"scatter3d\":[{\"type\":\"scatter3d\",\"line\":{\"colorbar\":{\"outlinewidth\":0,\"ticks\":\"\"}},\"marker\":{\"colorbar\":{\"outlinewidth\":0,\"ticks\":\"\"}}}],\"scattermapbox\":[{\"type\":\"scattermapbox\",\"marker\":{\"colorbar\":{\"outlinewidth\":0,\"ticks\":\"\"}}}],\"scatterternary\":[{\"type\":\"scatterternary\",\"marker\":{\"colorbar\":{\"outlinewidth\":0,\"ticks\":\"\"}}}],\"scattercarpet\":[{\"type\":\"scattercarpet\",\"marker\":{\"colorbar\":{\"outlinewidth\":0,\"ticks\":\"\"}}}],\"carpet\":[{\"aaxis\":{\"endlinecolor\":\"#2a3f5f\",\"gridcolor\":\"white\",\"linecolor\":\"white\",\"minorgridcolor\":\"white\",\"startlinecolor\":\"#2a3f5f\"},\"baxis\":{\"endlinecolor\":\"#2a3f5f\",\"gridcolor\":\"white\",\"linecolor\":\"white\",\"minorgridcolor\":\"white\",\"startlinecolor\":\"#2a3f5f\"},\"type\":\"carpet\"}],\"table\":[{\"cells\":{\"fill\":{\"color\":\"#EBF0F8\"},\"line\":{\"color\":\"white\"}},\"header\":{\"fill\":{\"color\":\"#C8D4E3\"},\"line\":{\"color\":\"white\"}},\"type\":\"table\"}],\"barpolar\":[{\"marker\":{\"line\":{\"color\":\"#E5ECF6\",\"width\":0.5},\"pattern\":{\"fillmode\":\"overlay\",\"size\":10,\"solidity\":0.2}},\"type\":\"barpolar\"}],\"pie\":[{\"automargin\":true,\"type\":\"pie\"}]},\"layout\":{\"autotypenumbers\":\"strict\",\"colorway\":[\"#636efa\",\"#EF553B\",\"#00cc96\",\"#ab63fa\",\"#FFA15A\",\"#19d3f3\",\"#FF6692\",\"#B6E880\",\"#FF97FF\",\"#FECB52\"],\"font\":{\"color\":\"#2a3f5f\"},\"hovermode\":\"closest\",\"hoverlabel\":{\"align\":\"left\"},\"paper_bgcolor\":\"white\",\"plot_bgcolor\":\"#E5ECF6\",\"polar\":{\"bgcolor\":\"#E5ECF6\",\"angularaxis\":{\"gridcolor\":\"white\",\"linecolor\":\"white\",\"ticks\":\"\"},\"radialaxis\":{\"gridcolor\":\"white\",\"linecolor\":\"white\",\"ticks\":\"\"}},\"ternary\":{\"bgcolor\":\"#E5ECF6\",\"aaxis\":{\"gridcolor\":\"white\",\"linecolor\":\"white\",\"ticks\":\"\"},\"baxis\":{\"gridcolor\":\"white\",\"linecolor\":\"white\",\"ticks\":\"\"},\"caxis\":{\"gridcolor\":\"white\",\"linecolor\":\"white\",\"ticks\":\"\"}},\"coloraxis\":{\"colorbar\":{\"outlinewidth\":0,\"ticks\":\"\"}},\"colorscale\":{\"sequential\":[[0.0,\"#0d0887\"],[0.1111111111111111,\"#46039f\"],[0.2222222222222222,\"#7201a8\"],[0.3333333333333333,\"#9c179e\"],[0.4444444444444444,\"#bd3786\"],[0.5555555555555556,\"#d8576b\"],[0.6666666666666666,\"#ed7953\"],[0.7777777777777778,\"#fb9f3a\"],[0.8888888888888888,\"#fdca26\"],[1.0,\"#f0f921\"]],\"sequentialminus\":[[0.0,\"#0d0887\"],[0.1111111111111111,\"#46039f\"],[0.2222222222222222,\"#7201a8\"],[0.3333333333333333,\"#9c179e\"],[0.4444444444444444,\"#bd3786\"],[0.5555555555555556,\"#d8576b\"],[0.6666666666666666,\"#ed7953\"],[0.7777777777777778,\"#fb9f3a\"],[0.8888888888888888,\"#fdca26\"],[1.0,\"#f0f921\"]],\"diverging\":[[0,\"#8e0152\"],[0.1,\"#c51b7d\"],[0.2,\"#de77ae\"],[0.3,\"#f1b6da\"],[0.4,\"#fde0ef\"],[0.5,\"#f7f7f7\"],[0.6,\"#e6f5d0\"],[0.7,\"#b8e186\"],[0.8,\"#7fbc41\"],[0.9,\"#4d9221\"],[1,\"#276419\"]]},\"xaxis\":{\"gridcolor\":\"white\",\"linecolor\":\"white\",\"ticks\":\"\",\"title\":{\"standoff\":15},\"zerolinecolor\":\"white\",\"automargin\":true,\"zerolinewidth\":2},\"yaxis\":{\"gridcolor\":\"white\",\"linecolor\":\"white\",\"ticks\":\"\",\"title\":{\"standoff\":15},\"zerolinecolor\":\"white\",\"automargin\":true,\"zerolinewidth\":2},\"scene\":{\"xaxis\":{\"backgroundcolor\":\"#E5ECF6\",\"gridcolor\":\"white\",\"linecolor\":\"white\",\"showbackground\":true,\"ticks\":\"\",\"zerolinecolor\":\"white\",\"gridwidth\":2},\"yaxis\":{\"backgroundcolor\":\"#E5ECF6\",\"gridcolor\":\"white\",\"linecolor\":\"white\",\"showbackground\":true,\"ticks\":\"\",\"zerolinecolor\":\"white\",\"gridwidth\":2},\"zaxis\":{\"backgroundcolor\":\"#E5ECF6\",\"gridcolor\":\"white\",\"linecolor\":\"white\",\"showbackground\":true,\"ticks\":\"\",\"zerolinecolor\":\"white\",\"gridwidth\":2}},\"shapedefaults\":{\"line\":{\"color\":\"#2a3f5f\"}},\"annotationdefaults\":{\"arrowcolor\":\"#2a3f5f\",\"arrowhead\":0,\"arrowwidth\":1},\"geo\":{\"bgcolor\":\"white\",\"landcolor\":\"#E5ECF6\",\"subunitcolor\":\"white\",\"showland\":true,\"showlakes\":true,\"lakecolor\":\"white\"},\"title\":{\"x\":0.05},\"mapbox\":{\"style\":\"light\"}}},\"coloraxis\":{\"colorbar\":{\"title\":{\"text\":\"Rating\"}},\"colorscale\":[[0.0,\"#0d0887\"],[0.1111111111111111,\"#46039f\"],[0.2222222222222222,\"#7201a8\"],[0.3333333333333333,\"#9c179e\"],[0.4444444444444444,\"#bd3786\"],[0.5555555555555556,\"#d8576b\"],[0.6666666666666666,\"#ed7953\"],[0.7777777777777778,\"#fb9f3a\"],[0.8888888888888888,\"#fdca26\"],[1.0,\"#f0f921\"]]},\"legend\":{\"tracegroupgap\":0},\"margin\":{\"t\":60},\"title\":{\"text\":\"Top 10 t\\u00edtulos mejor calificados por pa\\u00eds\"}},                        {\"responsive\": true}                    ).then(function(){\n",
       "                            \n",
       "var gd = document.getElementById('c747b1b9-9e3c-4b18-a27a-b715f213e457');\n",
       "var x = new MutationObserver(function (mutations, observer) {{\n",
       "        var display = window.getComputedStyle(gd).display;\n",
       "        if (!display || display === 'none') {{\n",
       "            console.log([gd, 'removed!']);\n",
       "            Plotly.purge(gd);\n",
       "            observer.disconnect();\n",
       "        }}\n",
       "}});\n",
       "\n",
       "// Listen for the removal of the full notebook cells\n",
       "var notebookContainer = gd.closest('#notebook-container');\n",
       "if (notebookContainer) {{\n",
       "    x.observe(notebookContainer, {childList: true});\n",
       "}}\n",
       "\n",
       "// Listen for the clearing of the current output cell\n",
       "var outputEl = gd.closest('.output');\n",
       "if (outputEl) {{\n",
       "    x.observe(outputEl, {childList: true});\n",
       "}}\n",
       "\n",
       "                        })                };                });            </script>        </div>"
      ]
     },
     "metadata": {},
     "output_type": "display_data"
    }
   ],
   "source": [
    "import plotly.express as px\n",
    "\n",
    "# Filtrar los 10 títulos con mejor rating (sin nulos)\n",
    "top_rated = netflix_dataset[['title', 'country', 'vote_average']].dropna().sort_values(by='vote_average', ascending=False).head(10)\n",
    "\n",
    "# Renombrar columna para que coincida con el original\n",
    "top_rated = top_rated.rename(columns={'vote_average': 'Rating'})\n",
    "\n",
    "# Gráfico Sunburst\n",
    "fig = px.sunburst(\n",
    "    top_rated,\n",
    "    path=['title', 'country'],\n",
    "    values='Rating',\n",
    "    color='Rating'\n",
    ")\n",
    "\n",
    "fig.update_layout(title='Top 10 títulos mejor calificados por país')\n",
    "fig.show()\n"
   ]
  },
  {
   "cell_type": "markdown",
   "id": "4e0bfb6b-21d4-4353-8620-b32c7570fdac",
   "metadata": {},
   "source": [
    "## **Top countries creating contents**"
   ]
  },
  {
   "cell_type": "code",
   "execution_count": 32,
   "id": "bad3722f-266d-4f83-8ce5-fce4c49e6401",
   "metadata": {},
   "outputs": [
    {
     "data": {
      "text/html": [
       "<div>\n",
       "<style scoped>\n",
       "    .dataframe tbody tr th:only-of-type {\n",
       "        vertical-align: middle;\n",
       "    }\n",
       "\n",
       "    .dataframe tbody tr th {\n",
       "        vertical-align: top;\n",
       "    }\n",
       "\n",
       "    .dataframe thead th {\n",
       "        text-align: right;\n",
       "    }\n",
       "</style>\n",
       "<table border=\"1\" class=\"dataframe\">\n",
       "  <thead>\n",
       "    <tr style=\"text-align: right;\">\n",
       "      <th></th>\n",
       "      <th>count</th>\n",
       "    </tr>\n",
       "    <tr>\n",
       "      <th>country</th>\n",
       "      <th></th>\n",
       "    </tr>\n",
       "  </thead>\n",
       "  <tbody>\n",
       "    <tr>\n",
       "      <th>United States of America</th>\n",
       "      <td>7760</td>\n",
       "    </tr>\n",
       "    <tr>\n",
       "      <th>Japan</th>\n",
       "      <td>2587</td>\n",
       "    </tr>\n",
       "    <tr>\n",
       "      <th>Unknown</th>\n",
       "      <td>2263</td>\n",
       "    </tr>\n",
       "    <tr>\n",
       "      <th>China</th>\n",
       "      <td>2004</td>\n",
       "    </tr>\n",
       "    <tr>\n",
       "      <th>South Korea</th>\n",
       "      <td>1999</td>\n",
       "    </tr>\n",
       "    <tr>\n",
       "      <th>United Kingdom</th>\n",
       "      <td>1106</td>\n",
       "    </tr>\n",
       "    <tr>\n",
       "      <th>France</th>\n",
       "      <td>855</td>\n",
       "    </tr>\n",
       "    <tr>\n",
       "      <th>India</th>\n",
       "      <td>771</td>\n",
       "    </tr>\n",
       "    <tr>\n",
       "      <th>Canada</th>\n",
       "      <td>738</td>\n",
       "    </tr>\n",
       "    <tr>\n",
       "      <th>Germany</th>\n",
       "      <td>554</td>\n",
       "    </tr>\n",
       "    <tr>\n",
       "      <th>United Kingdom, United States of America</th>\n",
       "      <td>513</td>\n",
       "    </tr>\n",
       "  </tbody>\n",
       "</table>\n",
       "</div>"
      ],
      "text/plain": [
       "                                          count\n",
       "country                                        \n",
       "United States of America                   7760\n",
       "Japan                                      2587\n",
       "Unknown                                    2263\n",
       "China                                      2004\n",
       "South Korea                                1999\n",
       "United Kingdom                             1106\n",
       "France                                      855\n",
       "India                                       771\n",
       "Canada                                      738\n",
       "Germany                                     554\n",
       "United Kingdom, United States of America    513"
      ]
     },
     "execution_count": 32,
     "metadata": {},
     "output_type": "execute_result"
    }
   ],
   "source": [
    "# Contar cuántos títulos tiene cada país\n",
    "country_count = netflix_dataset['country'].value_counts().sort_values(ascending=False)\n",
    "\n",
    "# Convertir a DataFrame\n",
    "country_count = pd.DataFrame(country_count)\n",
    "\n",
    "# Obtener los 11 principales\n",
    "topcountries = country_count.head(11)\n",
    "\n",
    "topcountries\n"
   ]
  },
  {
   "cell_type": "markdown",
   "id": "987f56f2-d6b7-4a6c-a096-5b9e257918e9",
   "metadata": {},
   "source": [
    "## **Year wise analysis**"
   ]
  },
  {
   "cell_type": "code",
   "execution_count": 12,
   "id": "56c38f38-9489-4aee-adc8-00a501330390",
   "metadata": {},
   "outputs": [
    {
     "data": {
      "text/html": [
       "<div>\n",
       "<style scoped>\n",
       "    .dataframe tbody tr th:only-of-type {\n",
       "        vertical-align: middle;\n",
       "    }\n",
       "\n",
       "    .dataframe tbody tr th {\n",
       "        vertical-align: top;\n",
       "    }\n",
       "\n",
       "    .dataframe thead th {\n",
       "        text-align: right;\n",
       "    }\n",
       "</style>\n",
       "<table border=\"1\" class=\"dataframe\">\n",
       "  <thead>\n",
       "    <tr style=\"text-align: right;\">\n",
       "      <th></th>\n",
       "      <th>show_id</th>\n",
       "      <th>type</th>\n",
       "      <th>title</th>\n",
       "      <th>director</th>\n",
       "      <th>cast</th>\n",
       "      <th>country</th>\n",
       "      <th>date_added</th>\n",
       "      <th>release_year</th>\n",
       "      <th>rating</th>\n",
       "      <th>duration</th>\n",
       "      <th>genres</th>\n",
       "      <th>language</th>\n",
       "      <th>description</th>\n",
       "      <th>popularity</th>\n",
       "      <th>vote_count</th>\n",
       "      <th>vote_average</th>\n",
       "      <th>budget</th>\n",
       "      <th>revenue</th>\n",
       "    </tr>\n",
       "  </thead>\n",
       "  <tbody>\n",
       "    <tr>\n",
       "      <th>1000</th>\n",
       "      <td>52910</td>\n",
       "      <td>TV Show</td>\n",
       "      <td>Law of the Jungle</td>\n",
       "      <td>Lee Ji-won</td>\n",
       "      <td>Kim Byung-man</td>\n",
       "      <td>South Korea</td>\n",
       "      <td>2011-10-21</td>\n",
       "      <td>2011</td>\n",
       "      <td>4.7</td>\n",
       "      <td>1 Seasons</td>\n",
       "      <td>Reality</td>\n",
       "      <td>ko</td>\n",
       "      <td>Law of the Jungle is a hybrid reality show com...</td>\n",
       "      <td>980.270</td>\n",
       "      <td>7</td>\n",
       "      <td>4.7</td>\n",
       "      <td>NaN</td>\n",
       "      <td>NaN</td>\n",
       "    </tr>\n",
       "    <tr>\n",
       "      <th>1001</th>\n",
       "      <td>1399</td>\n",
       "      <td>TV Show</td>\n",
       "      <td>Game of Thrones</td>\n",
       "      <td>NaN</td>\n",
       "      <td>Peter Dinklage, Kit Harington, Nikolaj Coster-...</td>\n",
       "      <td>United Kingdom, United States of America</td>\n",
       "      <td>2011-04-17</td>\n",
       "      <td>2011</td>\n",
       "      <td>8.5</td>\n",
       "      <td>1 Seasons</td>\n",
       "      <td>Sci-Fi &amp; Fantasy, Drama, Action &amp; Adventure</td>\n",
       "      <td>en</td>\n",
       "      <td>Seven noble families fight for control of the ...</td>\n",
       "      <td>812.157</td>\n",
       "      <td>24664</td>\n",
       "      <td>8.5</td>\n",
       "      <td>NaN</td>\n",
       "      <td>NaN</td>\n",
       "    </tr>\n",
       "    <tr>\n",
       "      <th>1002</th>\n",
       "      <td>52823</td>\n",
       "      <td>TV Show</td>\n",
       "      <td>Weekly Idol</td>\n",
       "      <td>NaN</td>\n",
       "      <td>NaN</td>\n",
       "      <td>South Korea</td>\n",
       "      <td>2011-07-23</td>\n",
       "      <td>2011</td>\n",
       "      <td>6.2</td>\n",
       "      <td>1 Seasons</td>\n",
       "      <td>Talk</td>\n",
       "      <td>ko</td>\n",
       "      <td>Weekly Idol is back with all new hosts. Cho Sa...</td>\n",
       "      <td>822.081</td>\n",
       "      <td>8</td>\n",
       "      <td>6.2</td>\n",
       "      <td>NaN</td>\n",
       "      <td>NaN</td>\n",
       "    </tr>\n",
       "    <tr>\n",
       "      <th>1003</th>\n",
       "      <td>122801</td>\n",
       "      <td>TV Show</td>\n",
       "      <td>Skilz</td>\n",
       "      <td>NaN</td>\n",
       "      <td>Bab Buelens, Stijn Steyaert, Lander Depoortere...</td>\n",
       "      <td>Belgium</td>\n",
       "      <td>2011-09-27</td>\n",
       "      <td>2011</td>\n",
       "      <td>2.0</td>\n",
       "      <td>1 Seasons</td>\n",
       "      <td>NaN</td>\n",
       "      <td>nl</td>\n",
       "      <td>NaN</td>\n",
       "      <td>657.163</td>\n",
       "      <td>1</td>\n",
       "      <td>2.0</td>\n",
       "      <td>NaN</td>\n",
       "      <td>NaN</td>\n",
       "    </tr>\n",
       "    <tr>\n",
       "      <th>1004</th>\n",
       "      <td>39084</td>\n",
       "      <td>TV Show</td>\n",
       "      <td>The Chew</td>\n",
       "      <td>NaN</td>\n",
       "      <td>Carla Hall, Clinton Kelly, Michael Symon</td>\n",
       "      <td>NaN</td>\n",
       "      <td>2011-09-26</td>\n",
       "      <td>2011</td>\n",
       "      <td>5.5</td>\n",
       "      <td>1 Seasons</td>\n",
       "      <td>Talk</td>\n",
       "      <td>en</td>\n",
       "      <td>The Chew is an American talk show/cooking show...</td>\n",
       "      <td>608.030</td>\n",
       "      <td>6</td>\n",
       "      <td>5.5</td>\n",
       "      <td>NaN</td>\n",
       "      <td>NaN</td>\n",
       "    </tr>\n",
       "  </tbody>\n",
       "</table>\n",
       "</div>"
      ],
      "text/plain": [
       "      show_id     type              title    director  \\\n",
       "1000    52910  TV Show  Law of the Jungle  Lee Ji-won   \n",
       "1001     1399  TV Show    Game of Thrones         NaN   \n",
       "1002    52823  TV Show        Weekly Idol         NaN   \n",
       "1003   122801  TV Show              Skilz         NaN   \n",
       "1004    39084  TV Show           The Chew         NaN   \n",
       "\n",
       "                                                   cast  \\\n",
       "1000                                      Kim Byung-man   \n",
       "1001  Peter Dinklage, Kit Harington, Nikolaj Coster-...   \n",
       "1002                                                NaN   \n",
       "1003  Bab Buelens, Stijn Steyaert, Lander Depoortere...   \n",
       "1004           Carla Hall, Clinton Kelly, Michael Symon   \n",
       "\n",
       "                                       country  date_added  release_year  \\\n",
       "1000                               South Korea  2011-10-21          2011   \n",
       "1001  United Kingdom, United States of America  2011-04-17          2011   \n",
       "1002                               South Korea  2011-07-23          2011   \n",
       "1003                                   Belgium  2011-09-27          2011   \n",
       "1004                                       NaN  2011-09-26          2011   \n",
       "\n",
       "      rating   duration                                       genres language  \\\n",
       "1000     4.7  1 Seasons                                      Reality       ko   \n",
       "1001     8.5  1 Seasons  Sci-Fi & Fantasy, Drama, Action & Adventure       en   \n",
       "1002     6.2  1 Seasons                                         Talk       ko   \n",
       "1003     2.0  1 Seasons                                          NaN       nl   \n",
       "1004     5.5  1 Seasons                                         Talk       en   \n",
       "\n",
       "                                            description  popularity  \\\n",
       "1000  Law of the Jungle is a hybrid reality show com...     980.270   \n",
       "1001  Seven noble families fight for control of the ...     812.157   \n",
       "1002  Weekly Idol is back with all new hosts. Cho Sa...     822.081   \n",
       "1003                                                NaN     657.163   \n",
       "1004  The Chew is an American talk show/cooking show...     608.030   \n",
       "\n",
       "      vote_count  vote_average  budget  revenue  \n",
       "1000           7           4.7     NaN      NaN  \n",
       "1001       24664           8.5     NaN      NaN  \n",
       "1002           8           6.2     NaN      NaN  \n",
       "1003           1           2.0     NaN      NaN  \n",
       "1004           6           5.5     NaN      NaN  "
      ]
     },
     "execution_count": 12,
     "metadata": {},
     "output_type": "execute_result"
    }
   ],
   "source": [
    "import matplotlib.pyplot as plt\n",
    "import seaborn as sns\n",
    "\n",
    "# Filtrar últimos 15 años automáticamente\n",
    "current_year = netflix_dataset['release_year'].max()\n",
    "Last_fifteen_years = netflix_dataset[netflix_dataset['release_year'] >= current_year - 14]\n",
    "\n",
    "# Mostrar primeras filas (opcional)\n",
    "Last_fifteen_years.head()\n"
   ]
  },
  {
   "cell_type": "code",
   "execution_count": 34,
   "id": "07baf315-24dc-4b54-9715-b7f446c947f1",
   "metadata": {},
   "outputs": [
    {
     "name": "stderr",
     "output_type": "stream",
     "text": [
      "C:\\Users\\52746\\AppData\\Local\\Temp\\ipykernel_3764\\4267240369.py:12: FutureWarning:\n",
      "\n",
      "\n",
      "\n",
      "Passing `palette` without assigning `hue` is deprecated and will be removed in v0.14.0. Assign the `y` variable to `hue` and set `legend=False` for the same effect.\n",
      "\n",
      "\n"
     ]
    },
    {
     "data": {
      "image/png": "[encoded data removed]",
      "text/plain": [
       "<Figure size 1200x1000 with 1 Axes>"
      ]
     },
     "metadata": {},
     "output_type": "display_data"
    }
   ],
   "source": [
    "# Filtrar datos para últimos 15 años\n",
    "current_year = netflix_dataset['release_year'].max()\n",
    "last_fifteen_years = netflix_dataset[netflix_dataset['release_year'] >= (current_year - 14)]\n",
    "\n",
    "# Graficar\n",
    "import matplotlib.pyplot as plt\n",
    "import seaborn as sns\n",
    "\n",
    "plt.figure(figsize=(12, 10))\n",
    "sns.set(style=\"darkgrid\")\n",
    "\n",
    "ax = sns.countplot(\n",
    "    y='release_year',\n",
    "    data=last_fifteen_years,\n",
    "    palette='Set1',\n",
    "    order=last_fifteen_years['release_year'].value_counts().index[:15]\n",
    ")\n",
    "\n",
    "plt.title('Cantidad de títulos lanzados por año (últimos 15 años)', fontsize=14)\n",
    "plt.xlabel('Cantidad')\n",
    "plt.ylabel('Año de lanzamiento')\n",
    "plt.tight_layout()\n",
    "plt.show()\n"
   ]
  },
  {
   "cell_type": "markdown",
   "id": "f1215bb2-a9c7-45be-bb78-cf9bd1f717ed",
   "metadata": {},
   "source": [
    "## **Analysis of TV Shows in Netflix** "
   ]
  },
  {
   "cell_type": "code",
   "execution_count": 41,
   "id": "4aceb12c-4db9-4a0c-b564-74d3a13196af",
   "metadata": {},
   "outputs": [],
   "source": [
    "#Analysis of TV Shows in Netflix\n",
    "\n",
    "countries={}\n",
    "netflix_shows['country']=netflix_shows['country'].fillna('Unknown')\n",
    "cou=list(netflix_shows['country'])\n",
    "for i in cou:\n",
    "    #print(i)\n",
    "    i=list(i.split(','))\n",
    "    if len(i)==1:\n",
    "        if i in list(countries.keys()):\n",
    "            countries[i]+=1\n",
    "        else:\n",
    "            countries[i[0]]=1\n",
    "    else:\n",
    "        for j in i:\n",
    "            if j in list(countries.keys()):\n",
    "                countries[j]+=1\n",
    "            else:\n",
    "                countries[j]=1"
   ]
  },
  {
   "cell_type": "code",
   "execution_count": 42,
   "id": "bd5e9279-df66-4730-b8fd-08720acef1c0",
   "metadata": {},
   "outputs": [],
   "source": [
    "countries_fin={}\n",
    "for country,no in countries.items():\n",
    "    country=country.replace(' ','')\n",
    "    if country in list(countries_fin.keys()):\n",
    "        countries_fin[country]+=no\n",
    "    else:\n",
    "        countries_fin[country]=no\n",
    "        \n",
    "countries_fin={k: v for k, v in sorted(countries_fin.items(), key=lambda item: item[1], reverse= True)}"
   ]
  },
  {
   "cell_type": "code",
   "execution_count": 43,
   "id": "ef5af474-613e-45dc-b608-93afdeb2d0c0",
   "metadata": {
    "scrolled": true
   },
   "outputs": [
    {
     "name": "stderr",
     "output_type": "stream",
     "text": [
      "C:\\Users\\52746\\AppData\\Local\\Temp\\ipykernel_3764\\3241309445.py:5: UserWarning:\n",
      "\n",
      "set_ticklabels() should only be used with a fixed number of ticks, i.e. after set_ticks() or using a FixedLocator.\n",
      "\n"
     ]
    },
    {
     "data": {
      "text/plain": [
       "[Text(0, 0, 'UnitedStatesofAmerica'),\n",
       " Text(1, 0, 'UnitedKingdom'),\n",
       " Text(2, 0, 'France'),\n",
       " Text(3, 0, 'Canada'),\n",
       " Text(4, 0, 'Germany'),\n",
       " Text(5, 0, 'Mexico'),\n",
       " Text(6, 0, 'SouthKorea'),\n",
       " Text(7, 0, 'Ireland'),\n",
       " Text(8, 0, 'Japan'),\n",
       " Text(9, 0, 'Italy')]"
      ]
     },
     "execution_count": 43,
     "metadata": {},
     "output_type": "execute_result"
    },
    {
     "data": {
      "image/png": "[encoded data removed]",
      "text/plain": [
       "<Figure size 800x800 with 1 Axes>"
      ]
     },
     "metadata": {},
     "output_type": "display_data"
    }
   ],
   "source": [
    "# Top 10 TV shows creating countries.\n",
    "\n",
    "plt.figure(figsize=(8,8))\n",
    "ax = sns.barplot(x=list(countries_fin.keys())[0:10],y=list(countries_fin.values())[0:10])\n",
    "ax.set_xticklabels(list(countries_fin.keys())[0:10],rotation = 90)"
   ]
  },
  {
   "cell_type": "markdown",
   "id": "1fd55eeb-465c-4e00-9bd7-b195bd49b3b5",
   "metadata": {},
   "source": [
    "## **Analysis of duration of movies** "
   ]
  },
  {
   "cell_type": "code",
   "execution_count": 54,
   "id": "28bd5f88-3f95-42c7-827c-19079919b075",
   "metadata": {},
   "outputs": [
    {
     "data": {
      "text/html": [
       "<div>\n",
       "<style scoped>\n",
       "    .dataframe tbody tr th:only-of-type {\n",
       "        vertical-align: middle;\n",
       "    }\n",
       "\n",
       "    .dataframe tbody tr th {\n",
       "        vertical-align: top;\n",
       "    }\n",
       "\n",
       "    .dataframe thead th {\n",
       "        text-align: right;\n",
       "    }\n",
       "</style>\n",
       "<table border=\"1\" class=\"dataframe\">\n",
       "  <thead>\n",
       "    <tr style=\"text-align: right;\">\n",
       "      <th></th>\n",
       "      <th>title</th>\n",
       "      <th>duration</th>\n",
       "    </tr>\n",
       "  </thead>\n",
       "  <tbody>\n",
       "  </tbody>\n",
       "</table>\n",
       "</div>"
      ],
      "text/plain": [
       "Empty DataFrame\n",
       "Columns: [title, duration]\n",
       "Index: []"
      ]
     },
     "execution_count": 54,
     "metadata": {},
     "output_type": "execute_result"
    }
   ],
   "source": [
    "# 1️⃣ Filtrar solo películas\n",
    "netflix_movies = netflix_dataset[netflix_dataset['type'] == 'Movie'].copy()\n",
    "\n",
    "# 2️⃣ Quitar nulos en duración\n",
    "netflix_movies = netflix_movies[netflix_movies['duration'].notna()]\n",
    "\n",
    "# 3️⃣ Extraer solo los números (soporta \"93 min\", \"93min\", etc.)\n",
    "netflix_movies['duration'] = netflix_movies['duration'].str.extract(r'(\\d+)')\n",
    "\n",
    "# 4️⃣ Quitar nuevamente nulos (si alguna fila no tenía números)\n",
    "netflix_movies = netflix_movies[netflix_movies['duration'].notna()]\n",
    "\n",
    "# 5️⃣ Convertir a entero\n",
    "netflix_movies['duration'] = netflix_movies['duration'].astype(int)\n",
    "\n",
    "# 6️⃣ Ver resultado limpio\n",
    "netflix_movies[['title', 'duration']].head()\n"
   ]
  },
  {
   "cell_type": "code",
   "execution_count": 55,
   "id": "a796e614-3010-4358-9c69-236a3cfb492e",
   "metadata": {},
   "outputs": [
    {
     "data": {
      "image/png": "[encoded data removed]",
      "text/plain": [
       "<Figure size 1000x600 with 1 Axes>"
      ]
     },
     "metadata": {},
     "output_type": "display_data"
    }
   ],
   "source": [
    "import matplotlib.pyplot as plt\n",
    "import seaborn as sns\n",
    "\n",
    "sns.set(style=\"darkgrid\")\n",
    "plt.figure(figsize=(10, 6))\n",
    "\n",
    "ax = sns.kdeplot(data=netflix_movies['duration'], fill=True, color='green')\n",
    "\n",
    "plt.title('Distribución de duración de películas en Netflix')\n",
    "plt.xlabel('Duración (minutos)')\n",
    "plt.ylabel('Densidad')\n",
    "plt.tight_layout()\n",
    "plt.show()\n"
   ]
  },
  {
   "cell_type": "markdown",
   "id": "2ed99f11-d03e-44a3-8d48-7d8b60cd54b0",
   "metadata": {},
   "source": [
    "## **Analysis of duration of TV shows**"
   ]
  },
  {
   "cell_type": "code",
   "execution_count": 57,
   "id": "06554f1b-31cc-4210-9d08-8985653fdf97",
   "metadata": {},
   "outputs": [
    {
     "data": {
      "text/html": [
       "<div>\n",
       "<style scoped>\n",
       "    .dataframe tbody tr th:only-of-type {\n",
       "        vertical-align: middle;\n",
       "    }\n",
       "\n",
       "    .dataframe tbody tr th {\n",
       "        vertical-align: top;\n",
       "    }\n",
       "\n",
       "    .dataframe thead th {\n",
       "        text-align: right;\n",
       "    }\n",
       "</style>\n",
       "<table border=\"1\" class=\"dataframe\">\n",
       "  <thead>\n",
       "    <tr style=\"text-align: right;\">\n",
       "      <th></th>\n",
       "      <th>title</th>\n",
       "      <th>duration</th>\n",
       "      <th>no_of_seasons</th>\n",
       "    </tr>\n",
       "  </thead>\n",
       "  <tbody>\n",
       "    <tr>\n",
       "      <th>0</th>\n",
       "      <td>Running Man</td>\n",
       "      <td>1 Seasons</td>\n",
       "      <td>1</td>\n",
       "    </tr>\n",
       "    <tr>\n",
       "      <th>1</th>\n",
       "      <td>Conan</td>\n",
       "      <td>1 Seasons</td>\n",
       "      <td>1</td>\n",
       "    </tr>\n",
       "    <tr>\n",
       "      <th>2</th>\n",
       "      <td>MasterChef Greece</td>\n",
       "      <td>1 Seasons</td>\n",
       "      <td>1</td>\n",
       "    </tr>\n",
       "    <tr>\n",
       "      <th>3</th>\n",
       "      <td>Prostřeno!</td>\n",
       "      <td>1 Seasons</td>\n",
       "      <td>1</td>\n",
       "    </tr>\n",
       "    <tr>\n",
       "      <th>4</th>\n",
       "      <td>The Talk</td>\n",
       "      <td>1 Seasons</td>\n",
       "      <td>1</td>\n",
       "    </tr>\n",
       "  </tbody>\n",
       "</table>\n",
       "</div>"
      ],
      "text/plain": [
       "               title   duration  no_of_seasons\n",
       "0        Running Man  1 Seasons              1\n",
       "1              Conan  1 Seasons              1\n",
       "2  MasterChef Greece  1 Seasons              1\n",
       "3         Prostřeno!  1 Seasons              1\n",
       "4           The Talk  1 Seasons              1"
      ]
     },
     "execution_count": 57,
     "metadata": {},
     "output_type": "execute_result"
    }
   ],
   "source": [
    "# Seleccionar solo columnas necesarias y hacer COPIA segura\n",
    "features = ['title', 'duration']\n",
    "durations = netflix_shows[features].copy()\n",
    "\n",
    "# Limpiar la columna 'duration'\n",
    "durations['no_of_seasons'] = durations['duration'].str.replace(' Season', '', regex=False)\n",
    "durations['no_of_seasons'] = durations['no_of_seasons'].str.replace('s', '', regex=False)\n",
    "\n",
    "# Convertir a entero\n",
    "durations['no_of_seasons'] = durations['no_of_seasons'].astype(int)\n",
    "\n",
    "# Ver resultado\n",
    "durations.head()\n"
   ]
  },
  {
   "cell_type": "code",
   "execution_count": 61,
   "id": "d7004192-41f3-4a04-b39f-bf6d231cc4f1",
   "metadata": {},
   "outputs": [],
   "source": [
    "durations['no_of_seasons']=durations['no_of_seasons'].astype(str).astype(int)"
   ]
  },
  {
   "cell_type": "code",
   "execution_count": 62,
   "id": "9ea56ae0-7ead-4200-a508-f030fe9e5037",
   "metadata": {},
   "outputs": [],
   "source": [
    "#TV shows with largest number of seasons\n",
    "t=['title','no_of_seasons']\n",
    "top=durations[t]\n",
    "\n",
    "top=top.sort_values(by='no_of_seasons', ascending=False)"
   ]
  },
  {
   "cell_type": "code",
   "execution_count": 63,
   "id": "43affec5-f056-4360-8bb6-8934fd7e350d",
   "metadata": {},
   "outputs": [
    {
     "data": {
      "text/plain": [
       "<Axes: xlabel='title'>"
      ]
     },
     "execution_count": 63,
     "metadata": {},
     "output_type": "execute_result"
    },
    {
     "data": {
      "image/png": "[encoded data removed]",
      "text/plain": [
       "<Figure size 640x480 with 1 Axes>"
      ]
     },
     "metadata": {},
     "output_type": "display_data"
    }
   ],
   "source": [
    "top20=top[0:20]\n",
    "top20.plot(kind='bar',x='title',y='no_of_seasons', color='blue')"
   ]
  },
  {
   "cell_type": "markdown",
   "id": "93412ed4-d300-4fdd-b01e-685100b3128d",
   "metadata": {},
   "source": [
    "# **Content-Based Recommendation System** \n",
    "\n",
    "## **Plot description based Recommender (Content Based Recommendations)**"
   ]
  },
  {
   "cell_type": "code",
   "execution_count": 64,
   "id": "93d44891-ae86-40f7-9369-f1274880f0b5",
   "metadata": {},
   "outputs": [
    {
     "data": {
      "text/plain": [
       "0    A reality and competition show where members a...\n",
       "1    A late night television talk show hosted by  C...\n",
       "2    MasterChef Greece is a Greek competitive cooki...\n",
       "3    The knives (and forks) are out as a group of s...\n",
       "4    A panel of well-known news and entertainment p...\n",
       "Name: description, dtype: object"
      ]
     },
     "execution_count": 64,
     "metadata": {},
     "output_type": "execute_result"
    }
   ],
   "source": [
    "#Plot description based Recommender (Content Based Recommendations)\n",
    "\n",
    "netflix_dataset['description'].head()"
   ]
  },
  {
   "cell_type": "code",
   "execution_count": 86,
   "id": "1f8ef4da-8210-4e3f-90cc-eace4117f6f4",
   "metadata": {},
   "outputs": [
    {
     "data": {
      "text/plain": [
       "(32000, 54565)"
      ]
     },
     "execution_count": 86,
     "metadata": {},
     "output_type": "execute_result"
    }
   ],
   "source": [
    "#Recommedation System(Content Based)\n",
    "\n",
    "#Import TfIdfVectorizer from scikit-learn\n",
    "from sklearn.feature_extraction.text import TfidfVectorizer\n",
    "\n",
    "#Define a TF-IDF Vectorizer Object. Remove all english stop words such as 'the', 'a', etc.\n",
    "tfidf = TfidfVectorizer(stop_words='english')\n",
    "\n",
    "#Replace NaN with an empty string\n",
    "netflix_dataset['description'] = netflix_dataset['description'].fillna('')\n",
    "\n",
    "#Construct the required TF-IDF matrix by fitting and transforming the data\n",
    "tfidf_matrix = tfidf.fit_transform(netflix_dataset['description'])\n",
    "\n",
    "#Output the shape of tfidf_matrix\n",
    "tfidf_matrix.shape"
   ]
  },
  {
   "cell_type": "code",
   "execution_count": 88,
   "id": "c67969d9-19ab-45b7-9270-b545270d8cc9",
   "metadata": {},
   "outputs": [
    {
     "name": "stdout",
     "output_type": "stream",
     "text": [
      "Filas seleccionadas: 32000\n",
      "Forma del TF-IDF matrix: (32000, 54565)\n",
      "Forma de la matriz de similitud: (32000, 32000)\n",
      "Cantidad de títulos indexados: 32000\n"
     ]
    }
   ],
   "source": [
    "# -------------------------------\n",
    "# Usar todos los datos con descripción válida\n",
    "# -------------------------------\n",
    "netflix_dataset['description'] = netflix_dataset['description'].fillna('')\n",
    "\n",
    "all_data = netflix_dataset[netflix_dataset['description'].notna()].copy()\n",
    "\n",
    "print(f\"Filas seleccionadas: {all_data.shape[0]}\")\n",
    "\n",
    "# -------------------------------\n",
    "# TF-IDF\n",
    "# -------------------------------\n",
    "from sklearn.feature_extraction.text import TfidfVectorizer\n",
    "\n",
    "tfidf = TfidfVectorizer(stop_words='english')\n",
    "tfidf_matrix = tfidf.fit_transform(all_data['description'])\n",
    "\n",
    "print(f\"Forma del TF-IDF matrix: {tfidf_matrix.shape}\")\n",
    "\n",
    "# -------------------------------\n",
    "# Similaridades\n",
    "# -------------------------------\n",
    "from sklearn.metrics.pairwise import linear_kernel\n",
    "\n",
    "cosine_sim = linear_kernel(tfidf_matrix, tfidf_matrix)\n",
    "print(f\"Forma de la matriz de similitud: {cosine_sim.shape}\")\n",
    "\n",
    "# -------------------------------\n",
    "# Mapear títulos a índices válidos\n",
    "# -------------------------------\n",
    "indices = pd.Series(all_data.index, index=all_data['title']).drop_duplicates()\n",
    "\n",
    "print(f\"Cantidad de títulos indexados: {len(indices)}\")\n",
    "\n",
    "# -------------------------------\n",
    "# Función de recomendación segura\n",
    "# -------------------------------\n",
    "def get_recommendations(title, cosine_sim=cosine_sim):\n",
    "    if title not in indices:\n",
    "        raise ValueError(f\"'{title}' no está en el dataset de títulos con descripción válida.\")\n",
    "    \n",
    "    idx = indices[title]\n",
    "    sim_scores = list(enumerate(cosine_sim[idx]))\n",
    "    sim_scores = sorted(sim_scores, key=lambda x: x[1], reverse=True)\n",
    "    sim_scores = sim_scores[1:11]\n",
    "    movie_indices = [i[0] for i in sim_scores]\n",
    "    \n",
    "    return all_data['title'].iloc[movie_indices]\n",
    "\n"
   ]
  },
  {
   "cell_type": "code",
   "execution_count": 89,
   "id": "9a5e689a-02b5-4a12-9e25-ca2d3deca198",
   "metadata": {},
   "outputs": [
    {
     "data": {
      "text/plain": [
       "16583    Inception: The Cobol Job\n",
       "19148                   New World\n",
       "27662                  Homunculus\n",
       "19321            The Monkey's Paw\n",
       "23210                    Altitude\n",
       "14232          Lumuhod Ka Sa Lupa\n",
       "3692                     Shen Tou\n",
       "5932                     Mindfuck\n",
       "13566                 Rabbit Hole\n",
       "2998                      La fuga\n",
       "Name: title, dtype: object"
      ]
     },
     "execution_count": 89,
     "metadata": {},
     "output_type": "execute_result"
    }
   ],
   "source": [
    "get_recommendations('Inception')"
   ]
  },
  {
   "cell_type": "code",
   "execution_count": 90,
   "id": "e53fd890-ec28-4d9d-8d21-dc6e87da0f09",
   "metadata": {},
   "outputs": [
    {
     "data": {
      "text/plain": [
       "25001                                    Avengers: Endgame\n",
       "23413    LEGO Marvel Super Heroes: Guardians of the Gal...\n",
       "3114                                     Marvel's Avengers\n",
       "30298             LEGO Marvel Avengers: Mission Demolition\n",
       "24963                            Avengers Grimm: Time Wars\n",
       "29378                       LEGO Marvel Avengers: Code Red\n",
       "4652                        Marvel Disk Wars: The Avengers\n",
       "9758                                               Pandora\n",
       "19370                     Phineas and Ferb: Mission Marvel\n",
       "135                 The Avengers: Earth's Mightiest Heroes\n",
       "Name: title, dtype: object"
      ]
     },
     "execution_count": 90,
     "metadata": {},
     "output_type": "execute_result"
    }
   ],
   "source": [
    "get_recommendations('Avengers: Infinity War')"
   ]
  },
  {
   "cell_type": "code",
   "execution_count": 91,
   "id": "f1f00efe-fc10-46b8-9c03-9626b77bef67",
   "metadata": {},
   "outputs": [
    {
     "data": {
      "text/plain": [
       "19567                                 Le Week-End\n",
       "22458                             The Family Fang\n",
       "24746                  There's No Place Like Home\n",
       "21762                            One Crazy Cruise\n",
       "19868                               Family United\n",
       "24672                        What Keeps You Alive\n",
       "29961    My Brother-in-law Is Looking For Me Only\n",
       "25283                   My Sister-in-law's Secret\n",
       "8964                          Frankenstein Family\n",
       "5070                                Iron Lady Cha\n",
       "Name: title, dtype: object"
      ]
     },
     "execution_count": 91,
     "metadata": {},
     "output_type": "execute_result"
    }
   ],
   "source": [
    "get_recommendations('Dil Dhadakne Do')"
   ]
  },
  {
   "cell_type": "markdown",
   "id": "26041330-f8af-4bf7-9462-e664ffcee1ee",
   "metadata": {},
   "source": [
    "### Content based filtering on multiple metrics\n",
    "\n",
    "Content based filtering on the following factors:\n",
    "\n",
    "* Title\n",
    "* Cast\n",
    "* Director\n",
    "* Listed in\n",
    "* Plot"
   ]
  },
  {
   "cell_type": "code",
   "execution_count": 100,
   "id": "5b7f98b4-6572-489e-9dd8-dda826ff4a96",
   "metadata": {},
   "outputs": [
    {
     "data": {
      "text/html": [
       "<div>\n",
       "<style scoped>\n",
       "    .dataframe tbody tr th:only-of-type {\n",
       "        vertical-align: middle;\n",
       "    }\n",
       "\n",
       "    .dataframe tbody tr th {\n",
       "        vertical-align: top;\n",
       "    }\n",
       "\n",
       "    .dataframe thead th {\n",
       "        text-align: right;\n",
       "    }\n",
       "</style>\n",
       "<table border=\"1\" class=\"dataframe\">\n",
       "  <thead>\n",
       "    <tr style=\"text-align: right;\">\n",
       "      <th></th>\n",
       "      <th>show_id</th>\n",
       "      <th>type</th>\n",
       "      <th>title</th>\n",
       "      <th>director</th>\n",
       "      <th>cast</th>\n",
       "      <th>country</th>\n",
       "      <th>date_added</th>\n",
       "      <th>release_year</th>\n",
       "      <th>rating</th>\n",
       "      <th>duration</th>\n",
       "      <th>genres</th>\n",
       "      <th>language</th>\n",
       "      <th>description</th>\n",
       "      <th>popularity</th>\n",
       "      <th>vote_count</th>\n",
       "      <th>vote_average</th>\n",
       "      <th>budget</th>\n",
       "      <th>revenue</th>\n",
       "    </tr>\n",
       "  </thead>\n",
       "  <tbody>\n",
       "    <tr>\n",
       "      <th>0</th>\n",
       "      <td>33238</td>\n",
       "      <td>TV Show</td>\n",
       "      <td>Running Man</td>\n",
       "      <td>안재철</td>\n",
       "      <td>Yoo Jae-suk, Jee Seok-jin, Kim Jong-kook, Haha...</td>\n",
       "      <td>South Korea</td>\n",
       "      <td>2010-07-11</td>\n",
       "      <td>2010</td>\n",
       "      <td>8.241</td>\n",
       "      <td>1 Seasons</td>\n",
       "      <td>Comedy, Reality</td>\n",
       "      <td>ko</td>\n",
       "      <td>A reality and competition show where members a...</td>\n",
       "      <td>1929.898</td>\n",
       "      <td>187</td>\n",
       "      <td>8.241</td>\n",
       "      <td></td>\n",
       "      <td></td>\n",
       "    </tr>\n",
       "    <tr>\n",
       "      <th>1</th>\n",
       "      <td>32415</td>\n",
       "      <td>TV Show</td>\n",
       "      <td>Conan</td>\n",
       "      <td></td>\n",
       "      <td>Conan O'Brien, Andy Richter</td>\n",
       "      <td>United States of America</td>\n",
       "      <td>2010-11-08</td>\n",
       "      <td>2010</td>\n",
       "      <td>7.035</td>\n",
       "      <td>1 Seasons</td>\n",
       "      <td>Talk, Comedy, News</td>\n",
       "      <td>en</td>\n",
       "      <td>A late night television talk show hosted by  C...</td>\n",
       "      <td>1670.580</td>\n",
       "      <td>229</td>\n",
       "      <td>7.035</td>\n",
       "      <td></td>\n",
       "      <td></td>\n",
       "    </tr>\n",
       "    <tr>\n",
       "      <th>2</th>\n",
       "      <td>37757</td>\n",
       "      <td>TV Show</td>\n",
       "      <td>MasterChef Greece</td>\n",
       "      <td></td>\n",
       "      <td></td>\n",
       "      <td>Greece</td>\n",
       "      <td>2010-10-03</td>\n",
       "      <td>2010</td>\n",
       "      <td>5.600</td>\n",
       "      <td>1 Seasons</td>\n",
       "      <td>Reality</td>\n",
       "      <td>el</td>\n",
       "      <td>MasterChef Greece is a Greek competitive cooki...</td>\n",
       "      <td>1317.092</td>\n",
       "      <td>6</td>\n",
       "      <td>5.600</td>\n",
       "      <td></td>\n",
       "      <td></td>\n",
       "    </tr>\n",
       "    <tr>\n",
       "      <th>3</th>\n",
       "      <td>75685</td>\n",
       "      <td>TV Show</td>\n",
       "      <td>Prostřeno!</td>\n",
       "      <td></td>\n",
       "      <td>Václav Vydra, Jana Boušková</td>\n",
       "      <td>Czech Republic</td>\n",
       "      <td>2010-03-01</td>\n",
       "      <td>2010</td>\n",
       "      <td>6.500</td>\n",
       "      <td>1 Seasons</td>\n",
       "      <td>Reality</td>\n",
       "      <td>cs</td>\n",
       "      <td>The knives (and forks) are out as a group of s...</td>\n",
       "      <td>1095.776</td>\n",
       "      <td>6</td>\n",
       "      <td>6.500</td>\n",
       "      <td></td>\n",
       "      <td></td>\n",
       "    </tr>\n",
       "    <tr>\n",
       "      <th>4</th>\n",
       "      <td>33847</td>\n",
       "      <td>TV Show</td>\n",
       "      <td>The Talk</td>\n",
       "      <td></td>\n",
       "      <td>Amanda Kloots, Jerry O'Connell, Akbar Gbaja-Bi...</td>\n",
       "      <td>United States of America, Ireland</td>\n",
       "      <td>2010-10-18</td>\n",
       "      <td>2010</td>\n",
       "      <td>3.400</td>\n",
       "      <td>1 Seasons</td>\n",
       "      <td>Talk</td>\n",
       "      <td>en</td>\n",
       "      <td>A panel of well-known news and entertainment p...</td>\n",
       "      <td>712.070</td>\n",
       "      <td>12</td>\n",
       "      <td>3.400</td>\n",
       "      <td></td>\n",
       "      <td></td>\n",
       "    </tr>\n",
       "  </tbody>\n",
       "</table>\n",
       "</div>"
      ],
      "text/plain": [
       "   show_id     type              title director  \\\n",
       "0    33238  TV Show        Running Man      안재철   \n",
       "1    32415  TV Show              Conan            \n",
       "2    37757  TV Show  MasterChef Greece            \n",
       "3    75685  TV Show         Prostřeno!            \n",
       "4    33847  TV Show           The Talk            \n",
       "\n",
       "                                                cast  \\\n",
       "0  Yoo Jae-suk, Jee Seok-jin, Kim Jong-kook, Haha...   \n",
       "1                        Conan O'Brien, Andy Richter   \n",
       "2                                                      \n",
       "3                        Václav Vydra, Jana Boušková   \n",
       "4  Amanda Kloots, Jerry O'Connell, Akbar Gbaja-Bi...   \n",
       "\n",
       "                             country  date_added  release_year  rating  \\\n",
       "0                        South Korea  2010-07-11          2010   8.241   \n",
       "1           United States of America  2010-11-08          2010   7.035   \n",
       "2                             Greece  2010-10-03          2010   5.600   \n",
       "3                     Czech Republic  2010-03-01          2010   6.500   \n",
       "4  United States of America, Ireland  2010-10-18          2010   3.400   \n",
       "\n",
       "    duration              genres language  \\\n",
       "0  1 Seasons     Comedy, Reality       ko   \n",
       "1  1 Seasons  Talk, Comedy, News       en   \n",
       "2  1 Seasons             Reality       el   \n",
       "3  1 Seasons             Reality       cs   \n",
       "4  1 Seasons                Talk       en   \n",
       "\n",
       "                                         description  popularity  vote_count  \\\n",
       "0  A reality and competition show where members a...    1929.898         187   \n",
       "1  A late night television talk show hosted by  C...    1670.580         229   \n",
       "2  MasterChef Greece is a Greek competitive cooki...    1317.092           6   \n",
       "3  The knives (and forks) are out as a group of s...    1095.776           6   \n",
       "4  A panel of well-known news and entertainment p...     712.070          12   \n",
       "\n",
       "   vote_average budget revenue  \n",
       "0         8.241                 \n",
       "1         7.035                 \n",
       "2         5.600                 \n",
       "3         6.500                 \n",
       "4         3.400                 "
      ]
     },
     "execution_count": 100,
     "metadata": {},
     "output_type": "execute_result"
    }
   ],
   "source": [
    "#Filling null values with empty string.\n",
    "filledna=netflix_dataset.fillna('')\n",
    "filledna.head()"
   ]
  },
  {
   "cell_type": "code",
   "execution_count": 99,
   "id": "2bde64a2-794a-4fe6-aec4-ae4d5c7fb099",
   "metadata": {},
   "outputs": [],
   "source": [
    "#Cleaning the data - making all the words lower case\n",
    "def clean_data(x):\n",
    "        return str.lower(x.replace(\" \", \"\"))"
   ]
  },
  {
   "cell_type": "code",
   "execution_count": 102,
   "id": "f8fcadb0-c2b8-4d5c-86fd-b1cb128ccd0f",
   "metadata": {},
   "outputs": [
    {
     "name": "stdout",
     "output_type": "stream",
     "text": [
      "Columnas disponibles en filledna:\n",
      "['show_id', 'type', 'title', 'director', 'cast', 'country', 'date_added', 'release_year', 'rating', 'duration', 'genres', 'language', 'description', 'popularity', 'vote_count', 'vote_average', 'budget', 'revenue']\n",
      "\n",
      "Usando columnas existentes: ['title', 'director', 'cast', 'description']\n"
     ]
    }
   ],
   "source": [
    "# 1. Reemplazar nulos con string vacío\n",
    "filledna = netflix_dataset.fillna('')\n",
    "# 2. Ver qué columnas tiene realmente\n",
    "print(\"Columnas disponibles en filledna:\")\n",
    "print(filledna.columns.tolist())\n",
    "\n",
    "# 3. Definir features pero solo quedarnos con las que existen\n",
    "features = ['title', 'director', 'cast', 'listed_in', 'description']\n",
    "existing_features = [col for col in features if col in filledna.columns]\n",
    "\n",
    "print(f\"\\nUsando columnas existentes: {existing_features}\")\n",
    "\n",
    "# 4. Filtrar dataframe\n",
    "filledna = filledna[existing_features]\n",
    "# 5. Aplicar limpieza solo a columnas que existen\n",
    "\n"
   ]
  },
  {
   "cell_type": "code",
   "execution_count": 103,
   "id": "7be69c54-7f13-4c74-ae26-d20046e81de2",
   "metadata": {},
   "outputs": [
    {
     "data": {
      "text/html": [
       "<div>\n",
       "<style scoped>\n",
       "    .dataframe tbody tr th:only-of-type {\n",
       "        vertical-align: middle;\n",
       "    }\n",
       "\n",
       "    .dataframe tbody tr th {\n",
       "        vertical-align: top;\n",
       "    }\n",
       "\n",
       "    .dataframe thead th {\n",
       "        text-align: right;\n",
       "    }\n",
       "</style>\n",
       "<table border=\"1\" class=\"dataframe\">\n",
       "  <thead>\n",
       "    <tr style=\"text-align: right;\">\n",
       "      <th></th>\n",
       "      <th>title</th>\n",
       "      <th>director</th>\n",
       "      <th>cast</th>\n",
       "      <th>description</th>\n",
       "    </tr>\n",
       "  </thead>\n",
       "  <tbody>\n",
       "    <tr>\n",
       "      <th>0</th>\n",
       "      <td>runningman</td>\n",
       "      <td>안재철</td>\n",
       "      <td>yoojae-suk,jeeseok-jin,kimjong-kook,haha,songj...</td>\n",
       "      <td>arealityandcompetitionshowwheremembersarejoine...</td>\n",
       "    </tr>\n",
       "    <tr>\n",
       "      <th>1</th>\n",
       "      <td>conan</td>\n",
       "      <td></td>\n",
       "      <td>conano'brien,andyrichter</td>\n",
       "      <td>alatenighttelevisiontalkshowhostedbyconano'brien.</td>\n",
       "    </tr>\n",
       "    <tr>\n",
       "      <th>2</th>\n",
       "      <td>masterchefgreece</td>\n",
       "      <td></td>\n",
       "      <td></td>\n",
       "      <td>masterchefgreeceisagreekcompetitivecookinggame...</td>\n",
       "    </tr>\n",
       "    <tr>\n",
       "      <th>3</th>\n",
       "      <td>prostřeno!</td>\n",
       "      <td></td>\n",
       "      <td>václavvydra,janaboušková</td>\n",
       "      <td>theknives(andforks)areoutasagroupofstrangersco...</td>\n",
       "    </tr>\n",
       "    <tr>\n",
       "      <th>4</th>\n",
       "      <td>thetalk</td>\n",
       "      <td></td>\n",
       "      <td>amandakloots,jerryo'connell,akbargbaja-biamila...</td>\n",
       "      <td>apanelofwell-knownnewsandentertainmentpersonal...</td>\n",
       "    </tr>\n",
       "  </tbody>\n",
       "</table>\n",
       "</div>"
      ],
      "text/plain": [
       "              title director  \\\n",
       "0        runningman      안재철   \n",
       "1             conan            \n",
       "2  masterchefgreece            \n",
       "3        prostřeno!            \n",
       "4           thetalk            \n",
       "\n",
       "                                                cast  \\\n",
       "0  yoojae-suk,jeeseok-jin,kimjong-kook,haha,songj...   \n",
       "1                           conano'brien,andyrichter   \n",
       "2                                                      \n",
       "3                           václavvydra,janaboušková   \n",
       "4  amandakloots,jerryo'connell,akbargbaja-biamila...   \n",
       "\n",
       "                                         description  \n",
       "0  arealityandcompetitionshowwheremembersarejoine...  \n",
       "1  alatenighttelevisiontalkshowhostedbyconano'brien.  \n",
       "2  masterchefgreeceisagreekcompetitivecookinggame...  \n",
       "3  theknives(andforks)areoutasagroupofstrangersco...  \n",
       "4  apanelofwell-knownnewsandentertainmentpersonal...  "
      ]
     },
     "execution_count": 103,
     "metadata": {},
     "output_type": "execute_result"
    }
   ],
   "source": [
    "for feature in existing_features:\n",
    "    filledna[feature] = filledna[feature].apply(clean_data)\n",
    "\n",
    "# 6. Verificar resultado\n",
    "filledna.head()\n",
    "\n"
   ]
  },
  {
   "cell_type": "code",
   "execution_count": 120,
   "id": "b982eba4-68d8-4b0c-9c64-ee9b6c02d2da",
   "metadata": {},
   "outputs": [],
   "source": [
    "def create_soup(x):\n",
    "    return x['title'] + ' ' + x['director'] + ' ' + x['cast'] + x['description']\n",
    "\n",
    "filledna['soup'] = filledna.apply(create_soup, axis=1)"
   ]
  },
  {
   "cell_type": "code",
   "execution_count": 129,
   "id": "55dd68fa-97ad-4201-8f85-5f8113111c3d",
   "metadata": {},
   "outputs": [],
   "source": [
    "from sklearn.metrics.pairwise import cosine_similarity\n",
    "\n",
    "def get_recommendations_full(title, top_n=10):\n",
    "    if title not in indices:\n",
    "        # Sugerencia de corrección si no está\n",
    "        suggestions = filledna[filledna['title'].str.contains(title.split()[0], case=False, na=False)]['title'].tolist()\n",
    "        raise ValueError(f\"'{title}' no está en el dataset.\\nQuizá quisiste uno de estos:\\n{suggestions}\")\n",
    "    \n",
    "    idx = indices[title]\n",
    "    sim_scores = cosine_similarity(count_matrix[idx], count_matrix).flatten()\n",
    "    sim_indices = sim_scores.argsort()[::-1]\n",
    "    sim_indices = sim_indices[sim_indices != idx]\n",
    "    sim_indices = sim_indices[:top_n]\n",
    "    \n",
    "    return filledna['title'].iloc[sim_indices]\n"
   ]
  },
  {
   "cell_type": "code",
   "execution_count": 130,
   "id": "3bc67c6f-de34-4a90-af82-816203e24891",
   "metadata": {},
   "outputs": [
    {
     "data": {
      "text/plain": [
       "21295                             Avengers Grimm\n",
       "24963                  Avengers Grimm: Time Wars\n",
       "17977                    Shrek: Once Upon a Time\n",
       "30341                                     Thelma\n",
       "20883    The Disappearance of Eleanor Rigby: Him\n",
       "20661    The Disappearance of Eleanor Rigby: Her\n",
       "19115                          Shrek the Musical\n",
       "28596                The Railway Children Return\n",
       "8671              Star Wars Galaxy of Adventures\n",
       "16508                                     Sintel\n",
       "Name: title, dtype: object"
      ]
     },
     "execution_count": 130,
     "metadata": {},
     "output_type": "execute_result"
    }
   ],
   "source": [
    "get_recommendations_new('Shrek Forever After')"
   ]
  },
  {
   "cell_type": "code",
   "execution_count": 131,
   "id": "6758cc3a-c076-4185-b497-79e737fc0732",
   "metadata": {},
   "outputs": [
    {
     "data": {
      "text/plain": [
       "25001                                    Avengers: Endgame\n",
       "23413    LEGO Marvel Super Heroes: Guardians of the Gal...\n",
       "3114                                     Marvel's Avengers\n",
       "30298             LEGO Marvel Avengers: Mission Demolition\n",
       "24963                            Avengers Grimm: Time Wars\n",
       "29378                       LEGO Marvel Avengers: Code Red\n",
       "4652                        Marvel Disk Wars: The Avengers\n",
       "9758                                               Pandora\n",
       "19370                     Phineas and Ferb: Mission Marvel\n",
       "135                 The Avengers: Earth's Mightiest Heroes\n",
       "Name: title, dtype: object"
      ]
     },
     "execution_count": 131,
     "metadata": {},
     "output_type": "execute_result"
    }
   ],
   "source": [
    "get_recommendations_new('Avengers: Infinity War')"
   ]
  },
  {
   "cell_type": "code",
   "execution_count": 132,
   "id": "b06806e1-fb83-44f6-8118-3d528f874629",
   "metadata": {},
   "outputs": [
    {
     "data": {
      "text/plain": [
       "19567                                 Le Week-End\n",
       "22458                             The Family Fang\n",
       "24746                  There's No Place Like Home\n",
       "21762                            One Crazy Cruise\n",
       "19868                               Family United\n",
       "24672                        What Keeps You Alive\n",
       "29961    My Brother-in-law Is Looking For Me Only\n",
       "25283                   My Sister-in-law's Secret\n",
       "8964                          Frankenstein Family\n",
       "5070                                Iron Lady Cha\n",
       "Name: title, dtype: object"
      ]
     },
     "execution_count": 132,
     "metadata": {},
     "output_type": "execute_result"
    }
   ],
   "source": [
    "get_recommendations_new('Dil Dhadakne Do')"
   ]
  },
  {
   "cell_type": "markdown",
   "id": "62c097e3",
   "metadata": {},
   "source": [
    "\n",
    "## Conclusión\n",
    "\n",
    "Este notebook demuestra un sistema de recomendación **basado en contenido** que usa las descripciones de los títulos para encontrar similitudes.  \n",
    "Es un enfoque sencillo pero efectivo para generar recomendaciones personalizadas sin necesidad de datos de usuario.\n"
   ]
  },
  {
   "cell_type": "code",
   "execution_count": null,
   "id": "f265c539-a7af-4786-9ef2-383ef2210461",
   "metadata": {},
   "outputs": [],
   "source": []
  }
 ],
 "metadata": {
  "kernelspec": {
   "display_name": "Python [conda env:base] *",
   "language": "python",
   "name": "conda-base-py"
  },
  "language_info": {
   "codemirror_mode": {
    "name": "ipython",
    "version": 3
   },
   "file_extension": ".py",
   "mimetype": "text/x-python",
   "name": "python",
   "nbconvert_exporter": "python",
   "pygments_lexer": "ipython3",
   "version": "3.12.7"
  }
 },
 "nbformat": 4,
 "nbformat_minor": 5
}
